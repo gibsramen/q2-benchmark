{
 "cells": [
  {
   "cell_type": "code",
   "execution_count": 1,
   "metadata": {},
   "outputs": [
    {
     "name": "stderr",
     "output_type": "stream",
     "text": [
      "/anaconda3/envs/qiime2-2019.7/lib/python3.6/site-packages/tensorflow/python/framework/dtypes.py:516: FutureWarning: Passing (type, 1) or '1type' as a synonym of type is deprecated; in a future version of numpy, it will be understood as (type, (1,)) / '(1,)type'.\n",
      "  _np_qint8 = np.dtype([(\"qint8\", np.int8, 1)])\n",
      "/anaconda3/envs/qiime2-2019.7/lib/python3.6/site-packages/tensorflow/python/framework/dtypes.py:517: FutureWarning: Passing (type, 1) or '1type' as a synonym of type is deprecated; in a future version of numpy, it will be understood as (type, (1,)) / '(1,)type'.\n",
      "  _np_quint8 = np.dtype([(\"quint8\", np.uint8, 1)])\n",
      "/anaconda3/envs/qiime2-2019.7/lib/python3.6/site-packages/tensorflow/python/framework/dtypes.py:518: FutureWarning: Passing (type, 1) or '1type' as a synonym of type is deprecated; in a future version of numpy, it will be understood as (type, (1,)) / '(1,)type'.\n",
      "  _np_qint16 = np.dtype([(\"qint16\", np.int16, 1)])\n",
      "/anaconda3/envs/qiime2-2019.7/lib/python3.6/site-packages/tensorflow/python/framework/dtypes.py:519: FutureWarning: Passing (type, 1) or '1type' as a synonym of type is deprecated; in a future version of numpy, it will be understood as (type, (1,)) / '(1,)type'.\n",
      "  _np_quint16 = np.dtype([(\"quint16\", np.uint16, 1)])\n",
      "/anaconda3/envs/qiime2-2019.7/lib/python3.6/site-packages/tensorflow/python/framework/dtypes.py:520: FutureWarning: Passing (type, 1) or '1type' as a synonym of type is deprecated; in a future version of numpy, it will be understood as (type, (1,)) / '(1,)type'.\n",
      "  _np_qint32 = np.dtype([(\"qint32\", np.int32, 1)])\n",
      "/anaconda3/envs/qiime2-2019.7/lib/python3.6/site-packages/tensorflow/python/framework/dtypes.py:525: FutureWarning: Passing (type, 1) or '1type' as a synonym of type is deprecated; in a future version of numpy, it will be understood as (type, (1,)) / '(1,)type'.\n",
      "  np_resource = np.dtype([(\"resource\", np.ubyte, 1)])\n",
      "/anaconda3/envs/qiime2-2019.7/lib/python3.6/site-packages/tensorboard/compat/tensorflow_stub/dtypes.py:541: FutureWarning: Passing (type, 1) or '1type' as a synonym of type is deprecated; in a future version of numpy, it will be understood as (type, (1,)) / '(1,)type'.\n",
      "  _np_qint8 = np.dtype([(\"qint8\", np.int8, 1)])\n",
      "/anaconda3/envs/qiime2-2019.7/lib/python3.6/site-packages/tensorboard/compat/tensorflow_stub/dtypes.py:542: FutureWarning: Passing (type, 1) or '1type' as a synonym of type is deprecated; in a future version of numpy, it will be understood as (type, (1,)) / '(1,)type'.\n",
      "  _np_quint8 = np.dtype([(\"quint8\", np.uint8, 1)])\n",
      "/anaconda3/envs/qiime2-2019.7/lib/python3.6/site-packages/tensorboard/compat/tensorflow_stub/dtypes.py:543: FutureWarning: Passing (type, 1) or '1type' as a synonym of type is deprecated; in a future version of numpy, it will be understood as (type, (1,)) / '(1,)type'.\n",
      "  _np_qint16 = np.dtype([(\"qint16\", np.int16, 1)])\n",
      "/anaconda3/envs/qiime2-2019.7/lib/python3.6/site-packages/tensorboard/compat/tensorflow_stub/dtypes.py:544: FutureWarning: Passing (type, 1) or '1type' as a synonym of type is deprecated; in a future version of numpy, it will be understood as (type, (1,)) / '(1,)type'.\n",
      "  _np_quint16 = np.dtype([(\"quint16\", np.uint16, 1)])\n",
      "/anaconda3/envs/qiime2-2019.7/lib/python3.6/site-packages/tensorboard/compat/tensorflow_stub/dtypes.py:545: FutureWarning: Passing (type, 1) or '1type' as a synonym of type is deprecated; in a future version of numpy, it will be understood as (type, (1,)) / '(1,)type'.\n",
      "  _np_qint32 = np.dtype([(\"qint32\", np.int32, 1)])\n",
      "/anaconda3/envs/qiime2-2019.7/lib/python3.6/site-packages/tensorboard/compat/tensorflow_stub/dtypes.py:550: FutureWarning: Passing (type, 1) or '1type' as a synonym of type is deprecated; in a future version of numpy, it will be understood as (type, (1,)) / '(1,)type'.\n",
      "  np_resource = np.dtype([(\"resource\", np.ubyte, 1)])\n"
     ]
    }
   ],
   "source": [
    "import qiime2 as q2\n",
    "from qiime2.plugins.fragment_insertion.methods import filter_features"
   ]
  },
  {
   "cell_type": "code",
   "execution_count": 2,
   "metadata": {},
   "outputs": [
    {
     "name": "stdout",
     "output_type": "stream",
     "text": [
      "/anaconda3/envs/qiime2-2019.7/lib/python3.6/site-packages/tensorflow/python/framework/dtypes.py:516: FutureWarning: Passing (type, 1) or '1type' as a synonym of type is deprecated; in a future version of numpy, it will be understood as (type, (1,)) / '(1,)type'.\n",
      "  _np_qint8 = np.dtype([(\"qint8\", np.int8, 1)])\n",
      "/anaconda3/envs/qiime2-2019.7/lib/python3.6/site-packages/tensorflow/python/framework/dtypes.py:517: FutureWarning: Passing (type, 1) or '1type' as a synonym of type is deprecated; in a future version of numpy, it will be understood as (type, (1,)) / '(1,)type'.\n",
      "  _np_quint8 = np.dtype([(\"quint8\", np.uint8, 1)])\n",
      "/anaconda3/envs/qiime2-2019.7/lib/python3.6/site-packages/tensorflow/python/framework/dtypes.py:518: FutureWarning: Passing (type, 1) or '1type' as a synonym of type is deprecated; in a future version of numpy, it will be understood as (type, (1,)) / '(1,)type'.\n",
      "  _np_qint16 = np.dtype([(\"qint16\", np.int16, 1)])\n",
      "/anaconda3/envs/qiime2-2019.7/lib/python3.6/site-packages/tensorflow/python/framework/dtypes.py:519: FutureWarning: Passing (type, 1) or '1type' as a synonym of type is deprecated; in a future version of numpy, it will be understood as (type, (1,)) / '(1,)type'.\n",
      "  _np_quint16 = np.dtype([(\"quint16\", np.uint16, 1)])\n",
      "/anaconda3/envs/qiime2-2019.7/lib/python3.6/site-packages/tensorflow/python/framework/dtypes.py:520: FutureWarning: Passing (type, 1) or '1type' as a synonym of type is deprecated; in a future version of numpy, it will be understood as (type, (1,)) / '(1,)type'.\n",
      "  _np_qint32 = np.dtype([(\"qint32\", np.int32, 1)])\n",
      "/anaconda3/envs/qiime2-2019.7/lib/python3.6/site-packages/tensorflow/python/framework/dtypes.py:525: FutureWarning: Passing (type, 1) or '1type' as a synonym of type is deprecated; in a future version of numpy, it will be understood as (type, (1,)) / '(1,)type'.\n",
      "  np_resource = np.dtype([(\"resource\", np.ubyte, 1)])\n",
      "/anaconda3/envs/qiime2-2019.7/lib/python3.6/site-packages/tensorboard/compat/tensorflow_stub/dtypes.py:541: FutureWarning: Passing (type, 1) or '1type' as a synonym of type is deprecated; in a future version of numpy, it will be understood as (type, (1,)) / '(1,)type'.\n",
      "  _np_qint8 = np.dtype([(\"qint8\", np.int8, 1)])\n",
      "/anaconda3/envs/qiime2-2019.7/lib/python3.6/site-packages/tensorboard/compat/tensorflow_stub/dtypes.py:542: FutureWarning: Passing (type, 1) or '1type' as a synonym of type is deprecated; in a future version of numpy, it will be understood as (type, (1,)) / '(1,)type'.\n",
      "  _np_quint8 = np.dtype([(\"quint8\", np.uint8, 1)])\n",
      "/anaconda3/envs/qiime2-2019.7/lib/python3.6/site-packages/tensorboard/compat/tensorflow_stub/dtypes.py:543: FutureWarning: Passing (type, 1) or '1type' as a synonym of type is deprecated; in a future version of numpy, it will be understood as (type, (1,)) / '(1,)type'.\n",
      "  _np_qint16 = np.dtype([(\"qint16\", np.int16, 1)])\n",
      "/anaconda3/envs/qiime2-2019.7/lib/python3.6/site-packages/tensorboard/compat/tensorflow_stub/dtypes.py:544: FutureWarning: Passing (type, 1) or '1type' as a synonym of type is deprecated; in a future version of numpy, it will be understood as (type, (1,)) / '(1,)type'.\n",
      "  _np_quint16 = np.dtype([(\"quint16\", np.uint16, 1)])\n",
      "/anaconda3/envs/qiime2-2019.7/lib/python3.6/site-packages/tensorboard/compat/tensorflow_stub/dtypes.py:545: FutureWarning: Passing (type, 1) or '1type' as a synonym of type is deprecated; in a future version of numpy, it will be understood as (type, (1,)) / '(1,)type'.\n",
      "  _np_qint32 = np.dtype([(\"qint32\", np.int32, 1)])\n",
      "/anaconda3/envs/qiime2-2019.7/lib/python3.6/site-packages/tensorboard/compat/tensorflow_stub/dtypes.py:550: FutureWarning: Passing (type, 1) or '1type' as a synonym of type is deprecated; in a future version of numpy, it will be understood as (type, (1,)) / '(1,)type'.\n",
      "  np_resource = np.dtype([(\"resource\", np.ubyte, 1)])\n",
      "\u001b[32mImported 61368_insertion_tree.relabelled.tre as NewickDirectoryFormat to rooted-tree.qza\u001b[0m\n"
     ]
    }
   ],
   "source": [
    "#import tree\n",
    "!qiime tools import \\\n",
    "  --input-path 61368_insertion_tree.relabelled.tre \\\n",
    "  --output-path rooted-tree.qza \\\n",
    "  --type 'Phylogeny[Rooted]'"
   ]
  },
  {
   "cell_type": "code",
   "execution_count": 6,
   "metadata": {},
   "outputs": [],
   "source": [
    "#import filtered table and tree\n",
    "q2bt = q2.Artifact.load('filtered-table.qza')\n",
    "rooted_tree = q2.Artifact.load('rooted-tree.qza')"
   ]
  },
  {
   "cell_type": "code",
   "execution_count": 7,
   "metadata": {},
   "outputs": [
    {
     "name": "stdout",
     "output_type": "stream",
     "text": [
      "                                     kept_reads  removed_reads  removed_ratio\n",
      "10394.H9.95etoh.20C.8weeks.II           48582.0          306.0       0.006259\n",
      "10394.H5.70etoh.heat.8weeks.II          34197.0         2730.0       0.073930\n",
      "10394.D3.FTA.20C.A.4weeks.II            64421.0         9524.0       0.128798\n",
      "10394.H6.95etoh.4C.1week.II             35232.0          666.0       0.018553\n",
      "10394.D3.RNA.amb.fresh.II               41902.0         5400.0       0.114160\n",
      "10394.H1.70etoh.20C.A.8weeks.II         61232.0         6567.0       0.096860\n",
      "10394.H10.95etoh.amb.4weeks.II          43706.0         1232.0       0.027416\n",
      "10394.H7.RNA.freezethaw.1week.II        64359.0         1150.0       0.017555\n",
      "10394.H7.Omni.20C.8weeks.II             44663.0          875.0       0.019215\n",
      "10394.H3.RNA.freezethaw.8weeks.II       62524.0          830.0       0.013101\n",
      "10394.D4.None.freezethaw.8weeks.II        594.0           17.0       0.027823\n",
      "10394.H9.70etoh.amb.1week.II            57854.0          233.0       0.004011\n",
      "10394.D3.RNA.20C.8weeks.II              34804.0         5724.0       0.141236\n",
      "10394.H1.70etoh.freezethaw.1week.II     40658.0         2795.0       0.064322\n",
      "10394.D1.95etoh.amb.8weeks.II           44808.0          232.0       0.005151\n",
      "10394.H8.None.amb.fresh.II              38316.0         3910.0       0.092597\n",
      "10394.H1.FTA.4C.1week.II                25053.0          881.0       0.033971\n",
      "10394.H9.rep3.amb.fresh.II              39541.0          204.0       0.005133\n",
      "10394.H9.FTA.20C.8weeks.II              43565.0          438.0       0.009954\n",
      "10394.D4.Omni.amb.8weeks.II             43503.0         1271.0       0.028387\n",
      "10394.H3.RNA.4C.1week.II                32546.0          340.0       0.010339\n",
      "10394.H3.RNA.20C.A.8weeks.II            37623.0          691.0       0.018035\n",
      "10394.H2.FTA.amb.fresh.II               14433.0          761.0       0.050086\n",
      "10394.H7.RNA.4C.1week.II                52684.0          786.0       0.014700\n",
      "10394.H2.FTA.20C.A.4weeks.II             9211.0          528.0       0.054215\n",
      "10394.H7.95etoh.heat.8weeks.II          31694.0          200.0       0.006271\n",
      "10394.D3.None.amb.8weeks.II             49498.0         1242.0       0.024478\n",
      "10394.D3.Omni.freezethaw.1week.II       50349.0         4769.0       0.086523\n",
      "10394.H5.FTA.4C.1week.II                23691.0          456.0       0.018884\n",
      "10394.H2.rep2.amb.8weeks.II             31706.0         2021.0       0.059922\n",
      "...                                         ...            ...            ...\n",
      "10394.H8.RNA.amb.fresh.II               32245.0         2136.0       0.062127\n",
      "10394.D5.FTA.amb.1week.II               34092.0          353.0       0.010248\n",
      "10394.H7.95etoh.4C.1week.II             95940.0          576.0       0.005968\n",
      "10394.D5.Omni.4C.1week.II               34158.0           78.0       0.002278\n",
      "10394.D3.95etoh.20C.8weeks.II           33925.0         3202.0       0.086245\n",
      "10394.H2.70etoh.heat.8weeks.II          43917.0         3343.0       0.070736\n",
      "10394.D5.95etoh.amb.8weeks.II           39793.0          146.0       0.003656\n",
      "10394.H6.Omni.20C.8weeks.II             42010.0          781.0       0.018252\n",
      "10394.H7.FTA.4C.4weeks.II               29227.0          652.0       0.021821\n",
      "10394.D4.70etoh.4C.1week.II             32855.0         1291.0       0.037808\n",
      "10394.D5.70etoh.20C.A.8weeks.II         24065.0           91.0       0.003767\n",
      "10394.H1.None.20C.8weeks.II             34222.0         1679.0       0.046767\n",
      "10394.D1.FTA.amb.8weeks.II              26197.0          315.0       0.011881\n",
      "10394.H6.95etoh.4C.8weeks.II            26776.0          360.0       0.013267\n",
      "10394.D5.RNA.heat.8weeks.II             52074.0         1460.0       0.027272\n",
      "10394.H10.rep1.amb.8weeks.II            62072.0         4989.0       0.074395\n",
      "10394.H4.RNA.heat.1week.II              70520.0         1080.0       0.015084\n",
      "10394.H4.70etoh.freezethaw.1week.II     72487.0          306.0       0.004204\n",
      "10394.H6.Omni.4C.4weeks.II              68991.0          751.0       0.010768\n",
      "10394.D5.95etoh.heat.8weeks.II          46924.0          153.0       0.003250\n",
      "10394.H9.95etoh.rep5.amb.8weeks.II      35407.0          191.0       0.005365\n",
      "10394.D1.RNA.4C.8weeks.II               45948.0         1635.0       0.034361\n",
      "10394.D3.rep4.amb.fresh.II              39954.0         2671.0       0.062663\n",
      "10394.H3.70etoh.20C.A.8weeks.II         29499.0          461.0       0.015387\n",
      "10394.H6.None.4C.4weeks.II              28415.0          187.0       0.006538\n",
      "10394.H7.Omni.freezethaw.1week.II       51681.0          924.0       0.017565\n",
      "10394.H3.rep2.amb.8weeks.II             62648.0         1633.0       0.025404\n",
      "10394.H10.RNA.amb.4weeks.II             17463.0          687.0       0.037851\n",
      "10394.H3.RNA.freezethaw.1week.II       119247.0         2372.0       0.019504\n",
      "10394.D2.None.amb.8weeks.II             36505.0          109.0       0.002977\n",
      "\n",
      "[1340 rows x 3 columns]\n"
     ]
    },
    {
     "data": {
      "text/plain": [
       "'tree-filtered-table.qza'"
      ]
     },
     "execution_count": 7,
     "metadata": {},
     "output_type": "execute_result"
    }
   ],
   "source": [
    "#filter table to match tree\n",
    "tree_filtered_table, removed_table = filter_features(q2bt,rooted_tree)\n",
    "tree_filtered_table.save('tree-filtered-table.qza')"
   ]
  }
 ],
 "metadata": {
  "kernelspec": {
   "display_name": "Python 3",
   "language": "python",
   "name": "python3"
  },
  "language_info": {
   "codemirror_mode": {
    "name": "ipython",
    "version": 3
   },
   "file_extension": ".py",
   "mimetype": "text/x-python",
   "name": "python",
   "nbconvert_exporter": "python",
   "pygments_lexer": "ipython3",
   "version": "3.6.7"
  }
 },
 "nbformat": 4,
 "nbformat_minor": 2
}

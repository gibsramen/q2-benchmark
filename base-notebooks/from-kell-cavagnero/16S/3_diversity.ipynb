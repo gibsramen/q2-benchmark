{
 "cells": [
  {
   "cell_type": "code",
   "execution_count": 1,
   "metadata": {},
   "outputs": [
    {
     "name": "stderr",
     "output_type": "stream",
     "text": [
      "/anaconda3/envs/qiime2-2019.7/lib/python3.6/site-packages/tensorflow/python/framework/dtypes.py:516: FutureWarning: Passing (type, 1) or '1type' as a synonym of type is deprecated; in a future version of numpy, it will be understood as (type, (1,)) / '(1,)type'.\n",
      "  _np_qint8 = np.dtype([(\"qint8\", np.int8, 1)])\n",
      "/anaconda3/envs/qiime2-2019.7/lib/python3.6/site-packages/tensorflow/python/framework/dtypes.py:517: FutureWarning: Passing (type, 1) or '1type' as a synonym of type is deprecated; in a future version of numpy, it will be understood as (type, (1,)) / '(1,)type'.\n",
      "  _np_quint8 = np.dtype([(\"quint8\", np.uint8, 1)])\n",
      "/anaconda3/envs/qiime2-2019.7/lib/python3.6/site-packages/tensorflow/python/framework/dtypes.py:518: FutureWarning: Passing (type, 1) or '1type' as a synonym of type is deprecated; in a future version of numpy, it will be understood as (type, (1,)) / '(1,)type'.\n",
      "  _np_qint16 = np.dtype([(\"qint16\", np.int16, 1)])\n",
      "/anaconda3/envs/qiime2-2019.7/lib/python3.6/site-packages/tensorflow/python/framework/dtypes.py:519: FutureWarning: Passing (type, 1) or '1type' as a synonym of type is deprecated; in a future version of numpy, it will be understood as (type, (1,)) / '(1,)type'.\n",
      "  _np_quint16 = np.dtype([(\"quint16\", np.uint16, 1)])\n",
      "/anaconda3/envs/qiime2-2019.7/lib/python3.6/site-packages/tensorflow/python/framework/dtypes.py:520: FutureWarning: Passing (type, 1) or '1type' as a synonym of type is deprecated; in a future version of numpy, it will be understood as (type, (1,)) / '(1,)type'.\n",
      "  _np_qint32 = np.dtype([(\"qint32\", np.int32, 1)])\n",
      "/anaconda3/envs/qiime2-2019.7/lib/python3.6/site-packages/tensorflow/python/framework/dtypes.py:525: FutureWarning: Passing (type, 1) or '1type' as a synonym of type is deprecated; in a future version of numpy, it will be understood as (type, (1,)) / '(1,)type'.\n",
      "  np_resource = np.dtype([(\"resource\", np.ubyte, 1)])\n",
      "/anaconda3/envs/qiime2-2019.7/lib/python3.6/site-packages/tensorboard/compat/tensorflow_stub/dtypes.py:541: FutureWarning: Passing (type, 1) or '1type' as a synonym of type is deprecated; in a future version of numpy, it will be understood as (type, (1,)) / '(1,)type'.\n",
      "  _np_qint8 = np.dtype([(\"qint8\", np.int8, 1)])\n",
      "/anaconda3/envs/qiime2-2019.7/lib/python3.6/site-packages/tensorboard/compat/tensorflow_stub/dtypes.py:542: FutureWarning: Passing (type, 1) or '1type' as a synonym of type is deprecated; in a future version of numpy, it will be understood as (type, (1,)) / '(1,)type'.\n",
      "  _np_quint8 = np.dtype([(\"quint8\", np.uint8, 1)])\n",
      "/anaconda3/envs/qiime2-2019.7/lib/python3.6/site-packages/tensorboard/compat/tensorflow_stub/dtypes.py:543: FutureWarning: Passing (type, 1) or '1type' as a synonym of type is deprecated; in a future version of numpy, it will be understood as (type, (1,)) / '(1,)type'.\n",
      "  _np_qint16 = np.dtype([(\"qint16\", np.int16, 1)])\n",
      "/anaconda3/envs/qiime2-2019.7/lib/python3.6/site-packages/tensorboard/compat/tensorflow_stub/dtypes.py:544: FutureWarning: Passing (type, 1) or '1type' as a synonym of type is deprecated; in a future version of numpy, it will be understood as (type, (1,)) / '(1,)type'.\n",
      "  _np_quint16 = np.dtype([(\"quint16\", np.uint16, 1)])\n",
      "/anaconda3/envs/qiime2-2019.7/lib/python3.6/site-packages/tensorboard/compat/tensorflow_stub/dtypes.py:545: FutureWarning: Passing (type, 1) or '1type' as a synonym of type is deprecated; in a future version of numpy, it will be understood as (type, (1,)) / '(1,)type'.\n",
      "  _np_qint32 = np.dtype([(\"qint32\", np.int32, 1)])\n",
      "/anaconda3/envs/qiime2-2019.7/lib/python3.6/site-packages/tensorboard/compat/tensorflow_stub/dtypes.py:550: FutureWarning: Passing (type, 1) or '1type' as a synonym of type is deprecated; in a future version of numpy, it will be understood as (type, (1,)) / '(1,)type'.\n",
      "  np_resource = np.dtype([(\"resource\", np.ubyte, 1)])\n"
     ]
    }
   ],
   "source": [
    "#import plugins\n",
    "import biom\n",
    "import os\n",
    "import pandas as pd\n",
    "import qiime2 as q2\n",
    "from qiime2.plugins.emperor.actions import plot, biplot\n",
    "from qiime2.plugins.deicode.actions import rpca\n",
    "from qiime2.plugins.diversity.actions import core_metrics_phylogenetic\n",
    "from qiime2.plugins.fragment_insertion.methods import filter_features\n",
    "from qiime2.plugins.diversity.visualizers import beta_group_significance\n",
    "from qiime2.plugins.diversity.visualizers import alpha_group_significance\n",
    "from qiime2.plugins.metadata.visualizers import tabulate\n",
    "from qiime2.plugins.diversity.methods import alpha"
   ]
  },
  {
   "cell_type": "code",
   "execution_count": 2,
   "metadata": {},
   "outputs": [],
   "source": [
    "#import filtered table \n",
    "tree_filtered_table = q2.Artifact.load('tree-filtered-table.qza')\n",
    "\n",
    "#import filtered metadata\n",
    "q2mf_filtered = q2.Metadata.load('filtered-metadata-fresh.qza')\n",
    "\n",
    "#import tree\n",
    "rooted_tree = q2.Artifact.load('rooted-tree.qza')"
   ]
  },
  {
   "cell_type": "code",
   "execution_count": null,
   "metadata": {},
   "outputs": [],
   "source": [
    "#core diversity metrics @ different sequencing depths\n",
    "for rf_depth in [10000]:\n",
    "    core_results = core_metrics_phylogenetic(tree_filtered_table,\n",
    "                                             rooted_tree,\n",
    "                                             rf_depth,\n",
    "                                             q2mf_filtered)\n",
    "    \n",
    "    os.mkdir('core-metrics-%i'%(rf_depth))\n",
    "    \n",
    "    for name, q2art in zip(core_results._fields, core_results):\n",
    "        out_ = os.path.join('core-metrics-%i'%(rf_depth),name)\n",
    "        q2art.save(out_)"
   ]
  },
  {
   "cell_type": "code",
   "execution_count": null,
   "metadata": {},
   "outputs": [],
   "source": [
    "#visualize core metric qzv plots in jupyter notebooks\n",
    "q2.Visualization.load('core-metrics-10000/unweighted_unifrac_emperor.qzv')"
   ]
  },
  {
   "cell_type": "code",
   "execution_count": null,
   "metadata": {},
   "outputs": [],
   "source": [
    "#visualize core metric qzv plots in jupyter notebooks\n",
    "q2.Visualization.load('core-metrics-10000/weighted_unifrac_emperor.qzv')"
   ]
  },
  {
   "cell_type": "code",
   "execution_count": null,
   "metadata": {},
   "outputs": [],
   "source": [
    "#make deicode/rpca beta diversity plot\n",
    "rpcares = rpca(tree_filtered_table)\n",
    "\n",
    "#makes a directory to put the output in\n",
    "os.mkdir('rpca-res-fresh')\n",
    "for name, q2art in zip(rpcares._fields, rpcares):\n",
    "    out_ = os.path.join('rpca-res-fresh',name)\n",
    "    q2art.save(out_)"
   ]
  },
  {
   "cell_type": "code",
   "execution_count": null,
   "metadata": {},
   "outputs": [],
   "source": [
    "#import biplot made by rpca\n",
    "bi_plot = q2.Artifact.load('rpca-res-fresh/biplot.qza')\n",
    "bi_plot"
   ]
  },
  {
   "cell_type": "code",
   "execution_count": null,
   "metadata": {},
   "outputs": [],
   "source": [
    "empbiplt = biplot(bi_plot,q2mf_filtered)\n",
    "empbiplt"
   ]
  },
  {
   "cell_type": "code",
   "execution_count": null,
   "metadata": {
    "scrolled": true
   },
   "outputs": [],
   "source": [
    "empbiplt.visualization"
   ]
  },
  {
   "cell_type": "code",
   "execution_count": null,
   "metadata": {},
   "outputs": [],
   "source": [
    "#save rpca visualization\n",
    "empbiplt.visualization.save('rpca-res/empbiplt.qzv')"
   ]
  },
  {
   "cell_type": "code",
   "execution_count": null,
   "metadata": {},
   "outputs": [],
   "source": [
    "#beta diversity significance unweighted unifrac 10000\n",
    "UnUF_dist_matx = q2.Artifact.load('core-metrics-10000/unweighted_unifrac_distance_matrix.qza')\n",
    "UnUF_species = beta_group_significance(UnUF_dist_matx,q2mf_filtered.get_column('host_common_name'))\n",
    "#save beta diversity significance unweighted unifrac 10000 visualization\n",
    "UnUF_species.visualization.save('core-metrics-10000/UnUF_species.qzv')\n",
    "#F stat 444.439\n",
    "#pvalue 0.001"
   ]
  },
  {
   "cell_type": "code",
   "execution_count": 4,
   "metadata": {},
   "outputs": [
    {
     "data": {
      "text/plain": [
       "'core-metrics-10000/UnUF_subject.qzv'"
      ]
     },
     "execution_count": 4,
     "metadata": {},
     "output_type": "execute_result"
    }
   ],
   "source": [
    "UnUF_dist_matx = q2.Artifact.load('core-metrics-10000/unweighted_unifrac_distance_matrix.qza')\n",
    "UnUF_subject = beta_group_significance(UnUF_dist_matx,q2mf_filtered.get_column('host_subject_id'))\n",
    "UnUF_subject.visualization.save('core-metrics-10000/UnUF_subject.qzv')\n",
    "#F stat 255.97\n",
    "#pvalue 0.001"
   ]
  },
  {
   "cell_type": "code",
   "execution_count": 5,
   "metadata": {},
   "outputs": [
    {
     "data": {
      "text/plain": [
       "'core-metrics-10000/UnUF_fresh.qzv'"
      ]
     },
     "execution_count": 5,
     "metadata": {},
     "output_type": "execute_result"
    }
   ],
   "source": [
    "UnUF_dist_matx = q2.Artifact.load('core-metrics-10000/unweighted_unifrac_distance_matrix.qza')\n",
    "UnUF_fresh = beta_group_significance(UnUF_dist_matx,q2mf_filtered.get_column('fresh_or_not'))\n",
    "UnUF_fresh.visualization.save('core-metrics-10000/UnUF_fresh.qzv')\n",
    "#F stat 1.5829\n",
    "#pvalue 0.11"
   ]
  },
  {
   "cell_type": "code",
   "execution_count": null,
   "metadata": {},
   "outputs": [],
   "source": [
    "#beta diversity significance weighted unifrac 10000\n",
    "WeUF_dist_matx = q2.Artifact.load('core-metrics-10000/weighted_unifrac_distance_matrix.qza')\n",
    "WeUF_species = beta_group_significance(WeUF_dist_matx,q2mf_filtered.get_column('host_common_name'))\n",
    "#save beta diversity significance unweighted unifrac 10000 visualization\n",
    "WeUF_species.visualization.save('core-metrics-10000/WeUF_species.qzv')\n",
    "#F stat 242.935\n",
    "#pvalue 0.001"
   ]
  },
  {
   "cell_type": "code",
   "execution_count": 6,
   "metadata": {},
   "outputs": [
    {
     "data": {
      "text/plain": [
       "'core-metrics-10000/WeUF_subject.qzv'"
      ]
     },
     "execution_count": 6,
     "metadata": {},
     "output_type": "execute_result"
    }
   ],
   "source": [
    "#beta diversity significance weighted unifrac 10000\n",
    "WeUF_dist_matx = q2.Artifact.load('core-metrics-10000/weighted_unifrac_distance_matrix.qza')\n",
    "WeUF_subject = beta_group_significance(WeUF_dist_matx,q2mf_filtered.get_column('host_subject_id'))\n",
    "#save beta diversity significance unweighted unifrac 10000 visualization\n",
    "WeUF_subject.visualization.save('core-metrics-10000/WeUF_subject.qzv')\n",
    "#F stat 123.591\n",
    "#pvalue 0.001"
   ]
  },
  {
   "cell_type": "code",
   "execution_count": 8,
   "metadata": {},
   "outputs": [
    {
     "data": {
      "text/plain": [
       "'core-metrics-10000/WeUF_fresh.qzv'"
      ]
     },
     "execution_count": 8,
     "metadata": {},
     "output_type": "execute_result"
    }
   ],
   "source": [
    "#beta diversity significance weighted unifrac 10000\n",
    "WeUF_dist_matx = q2.Artifact.load('core-metrics-10000/weighted_unifrac_distance_matrix.qza')\n",
    "WeUF_fresh = beta_group_significance(WeUF_dist_matx,q2mf_filtered.get_column('fresh_or_not'))\n",
    "#save beta diversity significance unweighted unifrac 10000 visualization\n",
    "WeUF_fresh.visualization.save('core-metrics-10000/WeUF_fresh.qzv')\n",
    "#F stat 29.1233\n",
    "#pvalue 0.001"
   ]
  },
  {
   "cell_type": "code",
   "execution_count": null,
   "metadata": {},
   "outputs": [],
   "source": [
    "#beta diversity significance rpca\n",
    "rpca_dist_matx = q2.Artifact.load('rpca-res/distance_matrix.qza')\n",
    "rpca_species = beta_group_significance(rpca_dist_matx,q2mf_filtered.get_column('host_common_name'))"
   ]
  },
  {
   "cell_type": "code",
   "execution_count": null,
   "metadata": {},
   "outputs": [],
   "source": [
    "rpca_species.visualization"
   ]
  },
  {
   "cell_type": "code",
   "execution_count": null,
   "metadata": {},
   "outputs": [],
   "source": [
    "#beta diversity significance rpca\n",
    "rpca_dist_matx = q2.Artifact.load('rpca-res-fresh/distance_matrix.qza')\n",
    "rpca_species = beta_group_significance(rpca_dist_matx,q2mf_filtered.get_column('fresh_or_not'))\n",
    "rpca_species.visualization"
   ]
  },
  {
   "cell_type": "code",
   "execution_count": null,
   "metadata": {},
   "outputs": [],
   "source": [
    "#save beta diversity significance rpca\n",
    "rpca_species.visualization.save('rpca-res/rpca_species.qzv')"
   ]
  },
  {
   "cell_type": "code",
   "execution_count": null,
   "metadata": {},
   "outputs": [],
   "source": [
    "#beta diversity significance rpca\n",
    "rpca_dist_matx = q2.Artifact.load('rpca-res/distance_matrix.qza')\n",
    "rpca_species = beta_group_significance(rpca_dist_matx,q2mf_filtered.get_column('host_subject_id'))\n",
    "rpca_species.visualization.save('rpca-res/rpca_subject.qzv')"
   ]
  },
  {
   "cell_type": "code",
   "execution_count": null,
   "metadata": {},
   "outputs": [],
   "source": [
    "#shannon diversity significance and figure (API)\n",
    "shannon_vector = q2.Artifact.load('core-metrics-10000/shannon_vector.qza')\n",
    "shannon_figure = alpha_group_significance(shannon_vector,q2mf_filtered)"
   ]
  },
  {
   "cell_type": "code",
   "execution_count": null,
   "metadata": {},
   "outputs": [],
   "source": [
    "#save shannon alpha diversity significance\n",
    "shannon_figure.visualization.save('core-metrics-10000/shannon_figure.qzv')"
   ]
  },
  {
   "cell_type": "code",
   "execution_count": null,
   "metadata": {},
   "outputs": [],
   "source": [
    "#beta diversity significance jaccard\n",
    "j_dm = q2.Artifact.load('core-metrics-10000/jaccard_distance_matrix.qza')\n",
    "j_stats = beta_group_significance(j_dm,q2mf_filtered.get_column('host_common_name'))\n",
    "j_stats.visualization.save('core-metrics-10000/jacc_stats_host.qzv')"
   ]
  },
  {
   "cell_type": "code",
   "execution_count": null,
   "metadata": {},
   "outputs": [],
   "source": [
    "#beta diversity significance jaccard\n",
    "j_dm = q2.Artifact.load('core-metrics-10000/jaccard_distance_matrix.qza')\n",
    "j_stats = beta_group_significance(j_dm,q2mf_filtered.get_column('fresh_or_not'))\n",
    "j_stats.visualization.save('core-metrics-10000/jacc_stats_fresh.qzv')"
   ]
  },
  {
   "cell_type": "code",
   "execution_count": null,
   "metadata": {},
   "outputs": [],
   "source": [
    "#beta diversity significance bray curtis \n",
    "bc_dm = q2.Artifact.load('core-metrics-10000/bray_curtis_distance_matrix.qza')\n",
    "bc_stats = beta_group_significance(bc_dm,q2mf_filtered.get_column('host_common_name'))\n",
    "bc_stats.visualization.save('core-metrics-10000/bc_stats_host.qzv')"
   ]
  },
  {
   "cell_type": "code",
   "execution_count": null,
   "metadata": {},
   "outputs": [],
   "source": [
    "#beta diversity significance jaccard\n",
    "j_dm = q2.Artifact.load('core-metrics-10000/jaccard_distance_matrix.qza')\n",
    "j_stats = beta_group_significance(j_dm,q2mf_filtered.get_column('host_subject_id'))\n",
    "j_stats.visualization.save('core-metrics-10000/jacc_stats_subject.qzv')"
   ]
  },
  {
   "cell_type": "code",
   "execution_count": null,
   "metadata": {},
   "outputs": [],
   "source": [
    "#beta diversity significance bray curtis \n",
    "bc_dm = q2.Artifact.load('core-metrics-10000/bray_curtis_distance_matrix.qza')\n",
    "bc_stats = beta_group_significance(bc_dm,q2mf_filtered.get_column('host_subject_id'))\n",
    "bc_stats.visualization.save('core-metrics-10000/bc_stats_subject.qzv')"
   ]
  }
 ],
 "metadata": {
  "kernelspec": {
   "display_name": "Python 3",
   "language": "python",
   "name": "python3"
  },
  "language_info": {
   "codemirror_mode": {
    "name": "ipython",
    "version": 3
   },
   "file_extension": ".py",
   "mimetype": "text/x-python",
   "name": "python",
   "nbconvert_exporter": "python",
   "pygments_lexer": "ipython3",
   "version": "3.6.7"
  }
 },
 "nbformat": 4,
 "nbformat_minor": 2
}

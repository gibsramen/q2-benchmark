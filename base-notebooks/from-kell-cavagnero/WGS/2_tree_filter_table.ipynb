{
 "cells": [
  {
   "cell_type": "code",
   "execution_count": 6,
   "metadata": {},
   "outputs": [],
   "source": [
    "import qiime2 as q2\n",
    "from qiime2.plugins.fragment_insertion.methods import filter_features"
   ]
  },
  {
   "cell_type": "code",
   "execution_count": 7,
   "metadata": {},
   "outputs": [
    {
     "name": "stdout",
     "output_type": "stream",
     "text": [
      "/anaconda3/envs/qiime2-2019.7/lib/python3.6/site-packages/tensorflow/python/framework/dtypes.py:516: FutureWarning: Passing (type, 1) or '1type' as a synonym of type is deprecated; in a future version of numpy, it will be understood as (type, (1,)) / '(1,)type'.\n",
      "  _np_qint8 = np.dtype([(\"qint8\", np.int8, 1)])\n",
      "/anaconda3/envs/qiime2-2019.7/lib/python3.6/site-packages/tensorflow/python/framework/dtypes.py:517: FutureWarning: Passing (type, 1) or '1type' as a synonym of type is deprecated; in a future version of numpy, it will be understood as (type, (1,)) / '(1,)type'.\n",
      "  _np_quint8 = np.dtype([(\"quint8\", np.uint8, 1)])\n",
      "/anaconda3/envs/qiime2-2019.7/lib/python3.6/site-packages/tensorflow/python/framework/dtypes.py:518: FutureWarning: Passing (type, 1) or '1type' as a synonym of type is deprecated; in a future version of numpy, it will be understood as (type, (1,)) / '(1,)type'.\n",
      "  _np_qint16 = np.dtype([(\"qint16\", np.int16, 1)])\n",
      "/anaconda3/envs/qiime2-2019.7/lib/python3.6/site-packages/tensorflow/python/framework/dtypes.py:519: FutureWarning: Passing (type, 1) or '1type' as a synonym of type is deprecated; in a future version of numpy, it will be understood as (type, (1,)) / '(1,)type'.\n",
      "  _np_quint16 = np.dtype([(\"quint16\", np.uint16, 1)])\n",
      "/anaconda3/envs/qiime2-2019.7/lib/python3.6/site-packages/tensorflow/python/framework/dtypes.py:520: FutureWarning: Passing (type, 1) or '1type' as a synonym of type is deprecated; in a future version of numpy, it will be understood as (type, (1,)) / '(1,)type'.\n",
      "  _np_qint32 = np.dtype([(\"qint32\", np.int32, 1)])\n",
      "/anaconda3/envs/qiime2-2019.7/lib/python3.6/site-packages/tensorflow/python/framework/dtypes.py:525: FutureWarning: Passing (type, 1) or '1type' as a synonym of type is deprecated; in a future version of numpy, it will be understood as (type, (1,)) / '(1,)type'.\n",
      "  np_resource = np.dtype([(\"resource\", np.ubyte, 1)])\n",
      "/anaconda3/envs/qiime2-2019.7/lib/python3.6/site-packages/tensorboard/compat/tensorflow_stub/dtypes.py:541: FutureWarning: Passing (type, 1) or '1type' as a synonym of type is deprecated; in a future version of numpy, it will be understood as (type, (1,)) / '(1,)type'.\n",
      "  _np_qint8 = np.dtype([(\"qint8\", np.int8, 1)])\n",
      "/anaconda3/envs/qiime2-2019.7/lib/python3.6/site-packages/tensorboard/compat/tensorflow_stub/dtypes.py:542: FutureWarning: Passing (type, 1) or '1type' as a synonym of type is deprecated; in a future version of numpy, it will be understood as (type, (1,)) / '(1,)type'.\n",
      "  _np_quint8 = np.dtype([(\"quint8\", np.uint8, 1)])\n",
      "/anaconda3/envs/qiime2-2019.7/lib/python3.6/site-packages/tensorboard/compat/tensorflow_stub/dtypes.py:543: FutureWarning: Passing (type, 1) or '1type' as a synonym of type is deprecated; in a future version of numpy, it will be understood as (type, (1,)) / '(1,)type'.\n",
      "  _np_qint16 = np.dtype([(\"qint16\", np.int16, 1)])\n",
      "/anaconda3/envs/qiime2-2019.7/lib/python3.6/site-packages/tensorboard/compat/tensorflow_stub/dtypes.py:544: FutureWarning: Passing (type, 1) or '1type' as a synonym of type is deprecated; in a future version of numpy, it will be understood as (type, (1,)) / '(1,)type'.\n",
      "  _np_quint16 = np.dtype([(\"quint16\", np.uint16, 1)])\n",
      "/anaconda3/envs/qiime2-2019.7/lib/python3.6/site-packages/tensorboard/compat/tensorflow_stub/dtypes.py:545: FutureWarning: Passing (type, 1) or '1type' as a synonym of type is deprecated; in a future version of numpy, it will be understood as (type, (1,)) / '(1,)type'.\n",
      "  _np_qint32 = np.dtype([(\"qint32\", np.int32, 1)])\n",
      "/anaconda3/envs/qiime2-2019.7/lib/python3.6/site-packages/tensorboard/compat/tensorflow_stub/dtypes.py:550: FutureWarning: Passing (type, 1) or '1type' as a synonym of type is deprecated; in a future version of numpy, it will be understood as (type, (1,)) / '(1,)type'.\n",
      "  np_resource = np.dtype([(\"resource\", np.ubyte, 1)])\n",
      "\u001b[32mImported tree.nwk as NewickDirectoryFormat to rooted-tree.qza\u001b[0m\n"
     ]
    }
   ],
   "source": [
    "!qiime tools import \\\n",
    "  --input-path tree.nwk \\\n",
    "  --output-path rooted-tree.qza \\\n",
    "  --type 'Phylogeny[Rooted]'"
   ]
  },
  {
   "cell_type": "code",
   "execution_count": 8,
   "metadata": {},
   "outputs": [],
   "source": [
    "q2bt = q2.Artifact.load('filtered-table.qza')\n",
    "rooted_tree = q2.Artifact.load('rooted-tree.qza')"
   ]
  },
  {
   "cell_type": "code",
   "execution_count": 9,
   "metadata": {},
   "outputs": [
    {
     "name": "stdout",
     "output_type": "stream",
     "text": [
      "                                      kept_reads  removed_reads  removed_ratio\n",
      "10394.D3.95etoh.20C.A.8weeks.II         391411.0            0.0            0.0\n",
      "10394.H3.rep1.amb.8weeks.II             681763.0            0.0            0.0\n",
      "10394.H2.None.amb.1week.II              773644.0            0.0            0.0\n",
      "10394.D1.RNA.4C.8weeks.II                    5.0            0.0            0.0\n",
      "10394.D2.None.amb.1week.II             1135529.0            0.0            0.0\n",
      "10394.H8.Omni.freezethaw.8weeks.II      907890.0            0.0            0.0\n",
      "10394.H7.FTA.heat.8weeks.II             586991.0            0.0            0.0\n",
      "10394.H10.None.4C.4weeks.II             447704.0            0.0            0.0\n",
      "10394.H4.rep4.amb.8weeks.II             990334.0            0.0            0.0\n",
      "10394.D1.95etoh.heat.8weeks.II          547710.0            0.0            0.0\n",
      "10394.H9.95etoh.amb.8weeks.II           955470.0            0.0            0.0\n",
      "10394.H2.rep1.amb.8weeks.II             903637.0            0.0            0.0\n",
      "10394.D1.FTA.4C.1week.II                784808.0            0.0            0.0\n",
      "10394.H4.rep1.amb.fresh.II             1474044.0            0.0            0.0\n",
      "10394.H1.rep5.amb.fresh.II              542760.0            0.0            0.0\n",
      "10394.D4.rep1.amb.fresh.II              696710.0            0.0            0.0\n",
      "10394.D5.None.4C.1week.II               222004.0            0.0            0.0\n",
      "10394.H5.95etoh.amb.8weeks.II           578336.0            0.0            0.0\n",
      "10394.H5.None.freezethaw.8weeks.II       29837.0            0.0            0.0\n",
      "10394.D2.FTA.amb.8weeks.II              856913.0            0.0            0.0\n",
      "10394.H3.70etoh.freezethaw.8weeks.II    394260.0            0.0            0.0\n",
      "10394.D5.FTA.4C.4weeks.II                  597.0            0.0            0.0\n",
      "10394.D5.rep3.amb.8weeks.II             277453.0            0.0            0.0\n",
      "10394.H9.rep1.amb.8weeks.II             711397.0            0.0            0.0\n",
      "10394.H5.rep5.amb.8weeks.II             569954.0            0.0            0.0\n",
      "10394.H2.95etoh.rep1.amb.8weeks.II      680646.0            0.0            0.0\n",
      "10394.D3.rep1.amb.fresh.II              293685.0            0.0            0.0\n",
      "10394.D4.FTA.4C.1week.II                316733.0            0.0            0.0\n",
      "10394.H4.RNA.amb.8weeks.II             1256394.0            0.0            0.0\n",
      "10394.H9.70etoh.amb.8weeks.II            49371.0            0.0            0.0\n",
      "...                                          ...            ...            ...\n",
      "10394.D4.70etoh.amb.1week.II            295338.0            0.0            0.0\n",
      "10394.H3.70etoh.4C.8weeks.II            435427.0            0.0            0.0\n",
      "10394.H9.None.heat.8weeks.II             10302.0            0.0            0.0\n",
      "10394.H3.Omni.20C.A.4weeks.II           226647.0            0.0            0.0\n",
      "10394.D2.95etoh.amb.4weeks.II          1462397.0            0.0            0.0\n",
      "10394.H1.95etoh.heat.8weeks.II              77.0            0.0            0.0\n",
      "10394.H4.95etoh.20C.A.8weeks.II         730426.0            0.0            0.0\n",
      "10394.H10.RNA.4C.4weeks.II              567785.0            0.0            0.0\n",
      "10394.H2.RNA.heat.8weeks.II             770910.0            0.0            0.0\n",
      "10394.H9.RNA.freezethaw.1week.II       1142205.0            0.0            0.0\n",
      "10394.H10.95etoh.amb.fresh.II           375276.0            0.0            0.0\n",
      "10394.H6.FTA.4C.8weeks.II               451535.0            0.0            0.0\n",
      "10394.H1.Omni.20C.A.8weeks.II           425641.0            0.0            0.0\n",
      "10394.D3.70etoh.amb.8weeks.II           441620.0            0.0            0.0\n",
      "10394.H7.95etoh.amb.4weeks.II           623966.0            0.0            0.0\n",
      "10394.D5.RNA.amb.4weeks.II              435694.0            0.0            0.0\n",
      "10394.H3.rep5.amb.fresh.II              994452.0            0.0            0.0\n",
      "10394.D3.95etoh.freezethaw.8weeks.II    119400.0            0.0            0.0\n",
      "10394.D5.RNA.4C.8weeks.II               335450.0            0.0            0.0\n",
      "10394.H8.None.freezethaw.8weeks.II        1564.0            0.0            0.0\n",
      "10394.D2.Omni.4C.1week.II              1245797.0            0.0            0.0\n",
      "10394.H9.RNA.20C.A.4weeks.II           1049467.0            0.0            0.0\n",
      "10394.H7.95etoh.4C.8weeks.II            658861.0            0.0            0.0\n",
      "10394.H6.95etoh.heat.8weeks.II          507453.0            0.0            0.0\n",
      "10394.D3.rep5.amb.fresh.II              510680.0            0.0            0.0\n",
      "10394.D5.None.heat.8weeks.II               808.0            0.0            0.0\n",
      "10394.H3.RNA.freezethaw.1week.II        814148.0            0.0            0.0\n",
      "10394.H6.70etoh.4C.8weeks.II            418810.0            0.0            0.0\n",
      "10394.H7.rep4.amb.8weeks.II             534742.0            0.0            0.0\n",
      "10394.H7.95etoh.20C.8weeks.II           520143.0            0.0            0.0\n",
      "\n",
      "[1410 rows x 3 columns]\n"
     ]
    },
    {
     "data": {
      "text/plain": [
       "'tree-filtered-table.qza'"
      ]
     },
     "execution_count": 9,
     "metadata": {},
     "output_type": "execute_result"
    }
   ],
   "source": [
    "#filter table to match tree\n",
    "tree_filtered_table, removed_table = filter_features(q2bt,rooted_tree)\n",
    "tree_filtered_table.save('tree-filtered-table.qza')"
   ]
  }
 ],
 "metadata": {
  "kernelspec": {
   "display_name": "Python 3",
   "language": "python",
   "name": "python3"
  },
  "language_info": {
   "codemirror_mode": {
    "name": "ipython",
    "version": 3
   },
   "file_extension": ".py",
   "mimetype": "text/x-python",
   "name": "python",
   "nbconvert_exporter": "python",
   "pygments_lexer": "ipython3",
   "version": "3.6.10"
  }
 },
 "nbformat": 4,
 "nbformat_minor": 2
}

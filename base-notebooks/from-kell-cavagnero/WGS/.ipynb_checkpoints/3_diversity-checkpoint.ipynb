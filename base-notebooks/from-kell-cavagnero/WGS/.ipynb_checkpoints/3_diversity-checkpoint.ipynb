{
 "cells": [
  {
   "cell_type": "code",
   "execution_count": 7,
   "metadata": {},
   "outputs": [],
   "source": [
    "#import plugins\n",
    "import biom\n",
    "import os\n",
    "import pandas as pd\n",
    "import qiime2 as q2\n",
    "from qiime2.plugins.emperor.actions import plot, biplot\n",
    "from qiime2.plugins.deicode.actions import rpca\n",
    "from qiime2.plugins.diversity.actions import core_metrics_phylogenetic\n",
    "from qiime2.plugins.fragment_insertion.methods import filter_features\n",
    "from qiime2.plugins.diversity.visualizers import beta_group_significance\n",
    "from qiime2.plugins.diversity.visualizers import alpha_group_significance\n",
    "from qiime2.plugins.metadata.visualizers import tabulate\n",
    "from qiime2.plugins.diversity.methods import alpha\n",
    "from qiime2.plugins.diversity.methods import beta"
   ]
  },
  {
   "cell_type": "code",
   "execution_count": 8,
   "metadata": {},
   "outputs": [],
   "source": [
    "#import table \n",
    "tree_filtered_table = q2.Artifact.load('tree-filtered-table.qza')\n",
    "\n",
    "#import metadata\n",
    "q2mf_filtered = q2.Metadata.load('filtered-metadata.qza')\n",
    "\n",
    "#import tree\n",
    "rooted_tree = q2.Artifact.load('rooted-tree.qza')"
   ]
  },
  {
   "cell_type": "code",
   "execution_count": 9,
   "metadata": {},
   "outputs": [],
   "source": [
    "#run aitchison beta diversity\n",
    "\n",
    "for rf_depth in [250000]:\n",
    "    alpha_results = beta(tree_filtered_table,\n",
    "                          'aitchison')\n",
    "                         \n",
    "    os.mkdir('aitchison-%i'%(rf_depth))\n",
    "    \n",
    "    for name, q2art in zip(alpha_results._fields, alpha_results):\n",
    "        out_ = os.path.join('aitchison-%i'%(rf_depth),name)\n",
    "        q2art.save(out_)"
   ]
  },
  {
   "cell_type": "code",
   "execution_count": null,
   "metadata": {},
   "outputs": [],
   "source": [
    "#run simpson alpha diversity\n",
    "\n",
    "for rf_depth in [250000]:\n",
    "    alpha_results = alpha(tree_filtered_table,\n",
    "                          'simpson')\n",
    "                         \n",
    "    os.mkdir('alpha-%i'%(rf_depth))\n",
    "    \n",
    "    for name, q2art in zip(alpha_results._fields, alpha_results):\n",
    "        out_ = os.path.join('alpha-%i'%(rf_depth),name)\n",
    "        q2art.save(out_)"
   ]
  },
  {
   "cell_type": "code",
   "execution_count": 4,
   "metadata": {},
   "outputs": [
    {
     "name": "stderr",
     "output_type": "stream",
     "text": [
      "/anaconda3/envs/qiime2-2019.7/lib/python3.6/site-packages/sklearn/metrics/pairwise.py:1575: DataConversionWarning: Data was converted to boolean for metric jaccard\n",
      "  warnings.warn(msg, DataConversionWarning)\n",
      "/anaconda3/envs/qiime2-2019.7/lib/python3.6/site-packages/skbio/stats/ordination/_principal_coordinate_analysis.py:152: RuntimeWarning: The result contains negative eigenvalues. Please compare their magnitude with the magnitude of some of the largest positive eigenvalues. If the negative ones are smaller, it's probably safe to ignore them, but if they are large in magnitude, the results won't be useful. See the Notes section for more details. The smallest eigenvalue is -0.22052194176825946 and the largest is 37.04796976130224.\n",
      "  RuntimeWarning\n",
      "/anaconda3/envs/qiime2-2019.7/lib/python3.6/site-packages/skbio/stats/ordination/_principal_coordinate_analysis.py:152: RuntimeWarning: The result contains negative eigenvalues. Please compare their magnitude with the magnitude of some of the largest positive eigenvalues. If the negative ones are smaller, it's probably safe to ignore them, but if they are large in magnitude, the results won't be useful. See the Notes section for more details. The smallest eigenvalue is -1.60142908172603 and the largest is 98.24523952217042.\n",
      "  RuntimeWarning\n",
      "/anaconda3/envs/qiime2-2019.7/lib/python3.6/site-packages/skbio/stats/ordination/_principal_coordinate_analysis.py:152: RuntimeWarning: The result contains negative eigenvalues. Please compare their magnitude with the magnitude of some of the largest positive eigenvalues. If the negative ones are smaller, it's probably safe to ignore them, but if they are large in magnitude, the results won't be useful. See the Notes section for more details. The smallest eigenvalue is -0.21466824493915082 and the largest is 29.83325800548708.\n",
      "  RuntimeWarning\n",
      "/anaconda3/envs/qiime2-2019.7/lib/python3.6/site-packages/skbio/stats/ordination/_principal_coordinate_analysis.py:152: RuntimeWarning: The result contains negative eigenvalues. Please compare their magnitude with the magnitude of some of the largest positive eigenvalues. If the negative ones are smaller, it's probably safe to ignore them, but if they are large in magnitude, the results won't be useful. See the Notes section for more details. The smallest eigenvalue is -6.76284020799759 and the largest is 197.71655981477466.\n",
      "  RuntimeWarning\n"
     ]
    }
   ],
   "source": [
    "#core diversity metrics @ different sequencing depths\n",
    "    #runs core metrics at diff depths\n",
    "    #makes directories for results at reach depth\n",
    "    #puts results for each depth in respective directory\n",
    "    \n",
    "for rf_depth in [250000]:\n",
    "    core_results = core_metrics_phylogenetic(tree_filtered_table,\n",
    "                                             rooted_tree,\n",
    "                                             rf_depth,\n",
    "                                             q2mf_filtered)\n",
    "    \n",
    "    os.mkdir('core-metrics-phylo-%i'%(rf_depth))\n",
    "    \n",
    "    for name, q2art in zip(core_results._fields, core_results):\n",
    "        out_ = os.path.join('core-metrics-phylo-%i'%(rf_depth),name)\n",
    "        q2art.save(out_)"
   ]
  },
  {
   "cell_type": "code",
   "execution_count": 3,
   "metadata": {},
   "outputs": [],
   "source": [
    "#make Cameron's deicode/rpca beta diversity plot\n",
    "rpcares = rpca(tree_filtered_table)\n",
    "\n",
    "#makes a directory to put the output in\n",
    "os.mkdir('rpca-res-fresh')\n",
    "for name, q2art in zip(rpcares._fields, rpcares):\n",
    "    out_ = os.path.join('rpca-res-fresh',name)\n",
    "    q2art.save(out_)"
   ]
  },
  {
   "cell_type": "code",
   "execution_count": 4,
   "metadata": {},
   "outputs": [
    {
     "data": {
      "text/plain": [
       "'rpca-res-fresh/rpca_subject.qzv'"
      ]
     },
     "execution_count": 4,
     "metadata": {},
     "output_type": "execute_result"
    }
   ],
   "source": [
    "#beta diversity significance rpca\n",
    "rpca_dist_matx = q2.Artifact.load('rpca-res-fresh/distance_matrix.qza')\n",
    "rpca_species = beta_group_significance(rpca_dist_matx,q2mf_filtered.get_column('host_subject_id'))\n",
    "rpca_species.visualization.save('rpca-res-fresh/rpca_subject.qzv')"
   ]
  },
  {
   "cell_type": "code",
   "execution_count": 5,
   "metadata": {},
   "outputs": [
    {
     "data": {
      "text/plain": [
       "'rpca-res-fresh/rpca_fresh.qzv'"
      ]
     },
     "execution_count": 5,
     "metadata": {},
     "output_type": "execute_result"
    }
   ],
   "source": [
    "#beta diversity significance rpca\n",
    "rpca_dist_matx = q2.Artifact.load('rpca-res-fresh/distance_matrix.qza')\n",
    "rpca_species = beta_group_significance(rpca_dist_matx,q2mf_filtered.get_column('fresh_or_not'))\n",
    "rpca_species.visualization.save('rpca-res-fresh/rpca_fresh.qzv')"
   ]
  },
  {
   "cell_type": "code",
   "execution_count": 6,
   "metadata": {},
   "outputs": [
    {
     "data": {
      "text/plain": [
       "'rpca-res-fresh/rpca_host.qzv'"
      ]
     },
     "execution_count": 6,
     "metadata": {},
     "output_type": "execute_result"
    }
   ],
   "source": [
    "#beta diversity significance rpca\n",
    "rpca_dist_matx = q2.Artifact.load('rpca-res-fresh/distance_matrix.qza')\n",
    "rpca_species = beta_group_significance(rpca_dist_matx,q2mf_filtered.get_column('host_common_name'))\n",
    "rpca_species.visualization.save('rpca-res-fresh/rpca_host.qzv')"
   ]
  },
  {
   "cell_type": "code",
   "execution_count": null,
   "metadata": {},
   "outputs": [],
   "source": []
  },
  {
   "cell_type": "code",
   "execution_count": 10,
   "metadata": {},
   "outputs": [
    {
     "data": {
      "text/plain": [
       "'aitchison-250000/aitch_host.qzv'"
      ]
     },
     "execution_count": 10,
     "metadata": {},
     "output_type": "execute_result"
    }
   ],
   "source": [
    "#beta diversity significance \n",
    "rpca_dist_matx = q2.Artifact.load('aitchison-250000/distance_matrix.qza')\n",
    "rpca_species = beta_group_significance(rpca_dist_matx,q2mf_filtered.get_column('host_common_name'))\n",
    "rpca_species.visualization.save('aitchison-250000/aitch_host.qzv')"
   ]
  },
  {
   "cell_type": "code",
   "execution_count": 11,
   "metadata": {},
   "outputs": [
    {
     "data": {
      "text/plain": [
       "'aitchison-250000/aitch_fresh.qzv'"
      ]
     },
     "execution_count": 11,
     "metadata": {},
     "output_type": "execute_result"
    }
   ],
   "source": [
    "#beta diversity significance \n",
    "rpca_dist_matx = q2.Artifact.load('aitchison-250000/distance_matrix.qza')\n",
    "rpca_species = beta_group_significance(rpca_dist_matx,q2mf_filtered.get_column('fresh_or_not'))\n",
    "rpca_species.visualization.save('aitchison-250000/aitch_fresh.qzv')"
   ]
  },
  {
   "cell_type": "code",
   "execution_count": 12,
   "metadata": {},
   "outputs": [
    {
     "data": {
      "text/plain": [
       "'aitchison-250000/aitch_subject.qzv'"
      ]
     },
     "execution_count": 12,
     "metadata": {},
     "output_type": "execute_result"
    }
   ],
   "source": [
    "#beta diversity significance \n",
    "rpca_dist_matx = q2.Artifact.load('aitchison-250000/distance_matrix.qza')\n",
    "rpca_species = beta_group_significance(rpca_dist_matx,q2mf_filtered.get_column('host_subject_id'))\n",
    "rpca_species.visualization.save('aitchison-250000/aitch_subject.qzv')"
   ]
  },
  {
   "cell_type": "code",
   "execution_count": null,
   "metadata": {},
   "outputs": [],
   "source": []
  },
  {
   "cell_type": "code",
   "execution_count": 5,
   "metadata": {},
   "outputs": [
    {
     "data": {
      "text/plain": [
       "'core-metrics-phylo-250000/UnUF_host.qzv'"
      ]
     },
     "execution_count": 5,
     "metadata": {},
     "output_type": "execute_result"
    }
   ],
   "source": [
    "UnUF_dist_matx = q2.Artifact.load('core-metrics-phylo-250000/unweighted_unifrac_distance_matrix.qza')\n",
    "UnUF_species = beta_group_significance(UnUF_dist_matx,q2mf_filtered.get_column('host_common_name'))\n",
    "UnUF_species.visualization.save('core-metrics-phylo-250000/UnUF_host.qzv')\n",
    "#F stat 418.104 \n",
    "#pvalue 0.001"
   ]
  },
  {
   "cell_type": "code",
   "execution_count": 6,
   "metadata": {},
   "outputs": [
    {
     "data": {
      "text/plain": [
       "'core-metrics-phylo-250000/UnUF_subject.qzv'"
      ]
     },
     "execution_count": 6,
     "metadata": {},
     "output_type": "execute_result"
    }
   ],
   "source": [
    "UnUF_dist_matx = q2.Artifact.load('core-metrics-phylo-250000/unweighted_unifrac_distance_matrix.qza')\n",
    "UnUF_subject = beta_group_significance(UnUF_dist_matx,q2mf_filtered.get_column('host_subject_id'))\n",
    "UnUF_subject.visualization.save('core-metrics-phylo-250000/UnUF_subject.qzv')\n",
    "#F stat 343.595 \n",
    "#pvalue 0.001"
   ]
  },
  {
   "cell_type": "code",
   "execution_count": 7,
   "metadata": {},
   "outputs": [
    {
     "data": {
      "text/plain": [
       "'core-metrics-phylo-250000/UnUF_fresh.qzv'"
      ]
     },
     "execution_count": 7,
     "metadata": {},
     "output_type": "execute_result"
    }
   ],
   "source": [
    "UnUF_dist_matx = q2.Artifact.load('core-metrics-phylo-250000/unweighted_unifrac_distance_matrix.qza')\n",
    "UnUF_fresh = beta_group_significance(UnUF_dist_matx,q2mf_filtered.get_column('fresh_or_not'))\n",
    "UnUF_fresh.visualization.save('core-metrics-phylo-250000/UnUF_fresh.qzv')\n",
    "#F stat 3.77861\n",
    "#pvalue 0.002"
   ]
  },
  {
   "cell_type": "code",
   "execution_count": null,
   "metadata": {},
   "outputs": [],
   "source": []
  },
  {
   "cell_type": "code",
   "execution_count": 8,
   "metadata": {},
   "outputs": [
    {
     "data": {
      "text/plain": [
       "'core-metrics-phylo-250000/WeUF_host.qzv'"
      ]
     },
     "execution_count": 8,
     "metadata": {},
     "output_type": "execute_result"
    }
   ],
   "source": [
    "WeUF_dist_matx = q2.Artifact.load('core-metrics-phylo-250000/weighted_unifrac_distance_matrix.qza')\n",
    "WeUF_species = beta_group_significance(WeUF_dist_matx,q2mf_filtered.get_column('host_common_name'))\n",
    "WeUF_species.visualization.save('core-metrics-phylo-250000/WeUF_host.qzv')\n",
    "#F stat 305.041\n",
    "#pvalue 0.001"
   ]
  },
  {
   "cell_type": "code",
   "execution_count": 9,
   "metadata": {},
   "outputs": [
    {
     "data": {
      "text/plain": [
       "'core-metrics-phylo-250000/WeUF_subject.qzv'"
      ]
     },
     "execution_count": 9,
     "metadata": {},
     "output_type": "execute_result"
    }
   ],
   "source": [
    "WeUF_dist_matx = q2.Artifact.load('core-metrics-phylo-250000/weighted_unifrac_distance_matrix.qza')\n",
    "WeUF_species = beta_group_significance(WeUF_dist_matx,q2mf_filtered.get_column('host_subject_id'))\n",
    "WeUF_species.visualization.save('core-metrics-phylo-250000/WeUF_subject.qzv')\n",
    "#F stat 141.972\n",
    "#pvalue 0.001"
   ]
  },
  {
   "cell_type": "code",
   "execution_count": 10,
   "metadata": {},
   "outputs": [
    {
     "data": {
      "text/plain": [
       "'core-metrics-phylo-250000/WeUF_fresh.qzv'"
      ]
     },
     "execution_count": 10,
     "metadata": {},
     "output_type": "execute_result"
    }
   ],
   "source": [
    "WeUF_dist_matx = q2.Artifact.load('core-metrics-phylo-250000/weighted_unifrac_distance_matrix.qza')\n",
    "WeUF_fresh = beta_group_significance(WeUF_dist_matx,q2mf_filtered.get_column('fresh_or_not'))\n",
    "WeUF_fresh.visualization.save('core-metrics-phylo-250000/WeUF_fresh.qzv')\n",
    "#F stat 19.1699\n",
    "#pvalue 0.001"
   ]
  },
  {
   "cell_type": "code",
   "execution_count": null,
   "metadata": {},
   "outputs": [],
   "source": []
  },
  {
   "cell_type": "code",
   "execution_count": 11,
   "metadata": {},
   "outputs": [
    {
     "data": {
      "text/plain": [
       "'core-metrics-phylo-250000/jacc_host.qzv'"
      ]
     },
     "execution_count": 11,
     "metadata": {},
     "output_type": "execute_result"
    }
   ],
   "source": [
    "jacc_dist_matx = q2.Artifact.load('core-metrics-phylo-250000/jaccard_distance_matrix.qza')\n",
    "jacc_species = beta_group_significance(jacc_dist_matx,q2mf_filtered.get_column('host_common_name'))\n",
    "jacc_species.visualization.save('core-metrics-phylo-250000/jacc_host.qzv')\n",
    "#F stat 380.595"
   ]
  },
  {
   "cell_type": "code",
   "execution_count": 12,
   "metadata": {},
   "outputs": [
    {
     "data": {
      "text/plain": [
       "'core-metrics-phylo-250000/jacc_subject.qzv'"
      ]
     },
     "execution_count": 12,
     "metadata": {},
     "output_type": "execute_result"
    }
   ],
   "source": [
    "jacc_dist_matx = q2.Artifact.load('core-metrics-phylo-250000/jaccard_distance_matrix.qza')\n",
    "jacc_species = beta_group_significance(jacc_dist_matx,q2mf_filtered.get_column('host_subject_id'))\n",
    "jacc_species.visualization.save('core-metrics-phylo-250000/jacc_subject.qzv')\n",
    "#F stat 339.347"
   ]
  },
  {
   "cell_type": "code",
   "execution_count": 13,
   "metadata": {},
   "outputs": [
    {
     "data": {
      "text/plain": [
       "'core-metrics-phylo-250000/jacc_fresh.qzv'"
      ]
     },
     "execution_count": 13,
     "metadata": {},
     "output_type": "execute_result"
    }
   ],
   "source": [
    "jacc_dist_matx = q2.Artifact.load('core-metrics-phylo-250000/jaccard_distance_matrix.qza')\n",
    "jacc_species = beta_group_significance(jacc_dist_matx,q2mf_filtered.get_column('fresh_or_not'))\n",
    "jacc_species.visualization.save('core-metrics-phylo-250000/jacc_fresh.qzv')\n",
    "#F stat 4.29946 0.001"
   ]
  },
  {
   "cell_type": "code",
   "execution_count": null,
   "metadata": {},
   "outputs": [],
   "source": []
  },
  {
   "cell_type": "code",
   "execution_count": 6,
   "metadata": {},
   "outputs": [
    {
     "data": {
      "text/plain": [
       "'core-metrics-phylo-250000/bc_fresh.qzv'"
      ]
     },
     "execution_count": 6,
     "metadata": {},
     "output_type": "execute_result"
    }
   ],
   "source": [
    "jacc_dist_matx = q2.Artifact.load('core-metrics-phylo-250000/bray_curtis_distance_matrix.qza')\n",
    "jacc_species = beta_group_significance(jacc_dist_matx,q2mf_filtered.get_column('fresh_or_not'))\n",
    "jacc_species.visualization.save('core-metrics-phylo-250000/bc_fresh.qzv')"
   ]
  },
  {
   "cell_type": "code",
   "execution_count": 7,
   "metadata": {},
   "outputs": [
    {
     "data": {
      "text/plain": [
       "'core-metrics-phylo-250000/bc_subject.qzv'"
      ]
     },
     "execution_count": 7,
     "metadata": {},
     "output_type": "execute_result"
    }
   ],
   "source": [
    "jacc_dist_matx = q2.Artifact.load('core-metrics-phylo-250000/bray_curtis_distance_matrix.qza')\n",
    "jacc_species = beta_group_significance(jacc_dist_matx,q2mf_filtered.get_column('host_subject_id'))\n",
    "jacc_species.visualization.save('core-metrics-phylo-250000/bc_subject.qzv')"
   ]
  },
  {
   "cell_type": "code",
   "execution_count": 8,
   "metadata": {},
   "outputs": [
    {
     "data": {
      "text/plain": [
       "'core-metrics-phylo-250000/bc_host.qzv'"
      ]
     },
     "execution_count": 8,
     "metadata": {},
     "output_type": "execute_result"
    }
   ],
   "source": [
    "jacc_dist_matx = q2.Artifact.load('core-metrics-phylo-250000/bray_curtis_distance_matrix.qza')\n",
    "jacc_species = beta_group_significance(jacc_dist_matx,q2mf_filtered.get_column('host_common_name'))\n",
    "jacc_species.visualization.save('core-metrics-phylo-250000/bc_host.qzv')"
   ]
  },
  {
   "cell_type": "code",
   "execution_count": null,
   "metadata": {},
   "outputs": [],
   "source": []
  }
 ],
 "metadata": {
  "kernelspec": {
   "display_name": "Python 3",
   "language": "python",
   "name": "python3"
  },
  "language_info": {
   "codemirror_mode": {
    "name": "ipython",
    "version": 3
   },
   "file_extension": ".py",
   "mimetype": "text/x-python",
   "name": "python",
   "nbconvert_exporter": "python",
   "pygments_lexer": "ipython3",
   "version": "3.6.10"
  }
 },
 "nbformat": 4,
 "nbformat_minor": 2
}

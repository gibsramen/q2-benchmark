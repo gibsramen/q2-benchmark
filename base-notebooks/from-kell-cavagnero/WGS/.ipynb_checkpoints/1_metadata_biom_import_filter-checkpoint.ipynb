{
 "cells": [
  {
   "cell_type": "code",
   "execution_count": 1,
   "metadata": {},
   "outputs": [],
   "source": [
    "from qiime2 import Artifact\n",
    "import qiime2 as q2\n",
    "import biom"
   ]
  },
  {
   "cell_type": "code",
   "execution_count": 2,
   "metadata": {},
   "outputs": [],
   "source": [
    "#import metadata\n",
    "mf = q2.Metadata.load('10394_20191017-112429.txt').to_dataframe()"
   ]
  },
  {
   "cell_type": "code",
   "execution_count": 3,
   "metadata": {},
   "outputs": [],
   "source": [
    "#create a new storage temp condition for samples that were put in -20C after 1 week\n",
    "mf['sample_storage_temp_treatment_week_added'] = [j + ' after one week' \n",
    "                                                  if '20C.A' in i else j \n",
    "                                                  for i, j in zip(mf.index,mf.sample_storage_temp_treatment)]"
   ]
  },
  {
   "cell_type": "code",
   "execution_count": 4,
   "metadata": {},
   "outputs": [],
   "source": [
    "mf['fresh_or_not'] = ['yes' if i == 'fresh' else 'no' \n",
    "                      for i in mf.duration_of_storage]"
   ]
  },
  {
   "cell_type": "code",
   "execution_count": 6,
   "metadata": {},
   "outputs": [
    {
     "data": {
      "text/plain": [
       "'filtered-table.qza'"
      ]
     },
     "execution_count": 6,
     "metadata": {},
     "output_type": "execute_result"
    }
   ],
   "source": [
    "#import table into qiime2 and filter out blanks, controls, and mistakes\n",
    "\n",
    "#import table \n",
    "bt = biom.load_table('gOTU_wol.norm.filt.namefix.biom')\n",
    "\n",
    "#identify the metadata data to keep \n",
    "keep = [ind for ind in mf.index if 'BLANK' not in ind \n",
    "        and 'mistake' not in ind and 'control' not in ind]\n",
    "\n",
    "#indentify the biom table data to keep (match to metadata)\n",
    "keep2 = list(set(keep) & set(bt.ids()))\n",
    "\n",
    "#filter metadata\n",
    "mf_filtered = mf.loc[keep2, : ]\n",
    "#filter biom table\n",
    "bt_filter = bt.filter(mf_filtered.index, axis='sample')\n",
    "\n",
    "#some features may have been removed that were unique to the samples removed\n",
    "#now there may be a lot of 0's in our table, remove them and match tables\n",
    "keep_feat = bt_filter.ids('observation')[bt_filter.sum(axis='observation') > 0]\n",
    "bt_filter = bt_filter.filter(keep_feat, axis='observation')\n",
    "\n",
    "#turn tables to q2 artifacts\n",
    "q2mf_filtered = q2.Metadata(mf_filtered)\n",
    "q2mf_filtered.save('filtered-metadata.qza')\n",
    "q2bt = q2.Artifact.import_data('FeatureTable[Frequency]', bt_filter)\n",
    "q2bt.save('filtered-table.qza')"
   ]
  }
 ],
 "metadata": {
  "kernelspec": {
   "display_name": "Python 3",
   "language": "python",
   "name": "python3"
  },
  "language_info": {
   "codemirror_mode": {
    "name": "ipython",
    "version": 3
   },
   "file_extension": ".py",
   "mimetype": "text/x-python",
   "name": "python",
   "nbconvert_exporter": "python",
   "pygments_lexer": "ipython3",
   "version": "3.6.10"
  }
 },
 "nbformat": 4,
 "nbformat_minor": 2
}

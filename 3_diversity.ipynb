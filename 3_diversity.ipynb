{
 "cells": [
  {
   "cell_type": "code",
   "execution_count": 1,
   "metadata": {},
   "outputs": [],
   "source": [
    "#import plugins\n",
    "import biom\n",
    "import os\n",
    "import pandas as pd\n",
    "import qiime2 as q2\n",
    "from qiime2.plugins.emperor.actions import plot, biplot\n",
    "from qiime2.plugins.deicode.actions import rpca\n",
    "from qiime2.plugins.diversity.actions import core_metrics_phylogenetic\n",
    "from qiime2.plugins.fragment_insertion.methods import filter_features\n",
    "from qiime2.plugins.diversity.visualizers import beta_group_significance\n",
    "from qiime2.plugins.diversity.visualizers import alpha_group_significance\n",
    "from qiime2.plugins.metadata.visualizers import tabulate\n",
    "from qiime2.plugins.diversity.methods import alpha\n",
    "from qiime2.plugins import taxa"
   ]
  },
  {
   "cell_type": "code",
   "execution_count": 2,
   "metadata": {},
   "outputs": [],
   "source": [
    "#import filtered table \n",
    "tree_filtered_table = q2.Artifact.load('tree-filtered-table.qza')\n",
    "\n",
    "#import filtered metadata\n",
    "q2mf_filtered = q2.Metadata.load('filtered-metadata.qza')\n",
    "\n",
    "#import tree\n",
    "rooted_tree = q2.Artifact.load('rooted-tree.qza')"
   ]
  },
  {
   "cell_type": "code",
   "execution_count": 4,
   "metadata": {},
   "outputs": [
    {
     "name": "stderr",
     "output_type": "stream",
     "text": [
      "/home/kalen/miniconda3/envs/qiime2-2020.6/lib/python3.6/site-packages/sklearn/metrics/pairwise.py:1776: DataConversionWarning: Data was converted to boolean for metric jaccard\n",
      "  warnings.warn(msg, DataConversionWarning)\n",
      "/home/kalen/miniconda3/envs/qiime2-2020.6/lib/python3.6/site-packages/skbio/stats/ordination/_principal_coordinate_analysis.py:152: RuntimeWarning: The result contains negative eigenvalues. Please compare their magnitude with the magnitude of some of the largest positive eigenvalues. If the negative ones are smaller, it's probably safe to ignore them, but if they are large in magnitude, the results won't be useful. See the Notes section for more details. The smallest eigenvalue is -0.1253319340622876 and the largest is 8.990941578680445.\n",
      "  RuntimeWarning\n",
      "/home/kalen/miniconda3/envs/qiime2-2020.6/lib/python3.6/site-packages/skbio/stats/ordination/_principal_coordinate_analysis.py:152: RuntimeWarning: The result contains negative eigenvalues. Please compare their magnitude with the magnitude of some of the largest positive eigenvalues. If the negative ones are smaller, it's probably safe to ignore them, but if they are large in magnitude, the results won't be useful. See the Notes section for more details. The smallest eigenvalue is -0.4559462038072873 and the largest is 23.454064603387167.\n",
      "  RuntimeWarning\n",
      "/home/kalen/miniconda3/envs/qiime2-2020.6/lib/python3.6/site-packages/skbio/stats/ordination/_principal_coordinate_analysis.py:152: RuntimeWarning: The result contains negative eigenvalues. Please compare their magnitude with the magnitude of some of the largest positive eigenvalues. If the negative ones are smaller, it's probably safe to ignore them, but if they are large in magnitude, the results won't be useful. See the Notes section for more details. The smallest eigenvalue is -0.13426563955324328 and the largest is 11.269537124225684.\n",
      "  RuntimeWarning\n",
      "/home/kalen/miniconda3/envs/qiime2-2020.6/lib/python3.6/site-packages/skbio/stats/ordination/_principal_coordinate_analysis.py:152: RuntimeWarning: The result contains negative eigenvalues. Please compare their magnitude with the magnitude of some of the largest positive eigenvalues. If the negative ones are smaller, it's probably safe to ignore them, but if they are large in magnitude, the results won't be useful. See the Notes section for more details. The smallest eigenvalue is -0.5123890150842914 and the largest is 13.366546453978478.\n",
      "  RuntimeWarning\n"
     ]
    }
   ],
   "source": [
    "#core diversity metrics @ different sequencing depths\n",
    "for rf_depth in [986]:\n",
    "    core_results = core_metrics_phylogenetic(tree_filtered_table,\n",
    "                                             rooted_tree,\n",
    "                                             rf_depth,\n",
    "                                             q2mf_filtered)\n",
    "    \n",
    "    os.mkdir('core-metrics-%i'%(rf_depth))\n",
    "    \n",
    "    for name, q2art in zip(core_results._fields, core_results):\n",
    "        out_ = os.path.join('core-metrics-%i'%(rf_depth),name)\n",
    "        q2art.save(out_)"
   ]
  },
  {
   "cell_type": "code",
   "execution_count": 5,
   "metadata": {},
   "outputs": [
    {
     "data": {
      "text/html": [
       "<div><img onload=\"(function(div, url){\n",
       "if (typeof require !== 'undefined') {\n",
       "    var baseURL = require.toUrl('').split('/').slice(0, -2).join('/');\n",
       "} else {\n",
       "    var baseURL = JSON.parse(\n",
       "        document.getElementById('jupyter-config-data').innerHTML\n",
       "    ).baseUrl.slice(0, -1);\n",
       "}\n",
       "url = baseURL + url;\n",
       "fetch(url).then(function(res) {\n",
       "    if (res.status === 404) {\n",
       "        div.innerHTML = 'Install QIIME 2 Jupyter extension with:<br />' +\n",
       "                        '<code>jupyter serverextension enable --py qiime2' +\n",
       "                        ' --sys-prefix</code><br />then restart your server.' +\n",
       "                        '<br /><br />(Interactive output not available on ' +\n",
       "                        'static notebook viewer services like nbviewer.)';\n",
       "    } else if (res.status === 409) {\n",
       "        div.innerHTML = 'Visualization no longer in scope. Re-run this cell' +\n",
       "                        ' to see the visualization.';\n",
       "    } else if (res.ok) {\n",
       "        url = res.url;\n",
       "        div.innerHTML = '<iframe src=\\'' + url + '\\' style=\\'' +\n",
       "                        'width: 100%; height: 700px; border: 0;\\'>' +\n",
       "                        '</iframe><hr />Open in a: <a href=\\'' + url + '\\'' +\n",
       "                        ' target=\\'_blank\\'>new window</a>'\n",
       "    } else {\n",
       "        div.innerHTML = 'Something has gone wrong. Check notebook server for' +\n",
       "                        ' errors.';\n",
       "    }\n",
       "});\n",
       "})(this.parentElement, '/qiime2/redirect?location=/tmp/qiime2-archive-0k55lb7a')\" src=\"data:image/gif;base64,R0lGODlhAQABAIAAAP///wAAACH5BAEAAAAALAAAAAABAAEAAAICRAEAOw==\" /></div>"
      ],
      "text/plain": [
       "<visualization: Visualization uuid: c6c67219-4db7-4d75-97cd-eecd98e4b296>"
      ]
     },
     "execution_count": 5,
     "metadata": {},
     "output_type": "execute_result"
    }
   ],
   "source": [
    "#visualize core metric qzv plots in jupyter notebooks\n",
    "q2.Visualization.load('core-metrics-986/unweighted_unifrac_emperor.qzv')"
   ]
  },
  {
   "cell_type": "code",
   "execution_count": 6,
   "metadata": {},
   "outputs": [
    {
     "data": {
      "text/html": [
       "<div><img onload=\"(function(div, url){\n",
       "if (typeof require !== 'undefined') {\n",
       "    var baseURL = require.toUrl('').split('/').slice(0, -2).join('/');\n",
       "} else {\n",
       "    var baseURL = JSON.parse(\n",
       "        document.getElementById('jupyter-config-data').innerHTML\n",
       "    ).baseUrl.slice(0, -1);\n",
       "}\n",
       "url = baseURL + url;\n",
       "fetch(url).then(function(res) {\n",
       "    if (res.status === 404) {\n",
       "        div.innerHTML = 'Install QIIME 2 Jupyter extension with:<br />' +\n",
       "                        '<code>jupyter serverextension enable --py qiime2' +\n",
       "                        ' --sys-prefix</code><br />then restart your server.' +\n",
       "                        '<br /><br />(Interactive output not available on ' +\n",
       "                        'static notebook viewer services like nbviewer.)';\n",
       "    } else if (res.status === 409) {\n",
       "        div.innerHTML = 'Visualization no longer in scope. Re-run this cell' +\n",
       "                        ' to see the visualization.';\n",
       "    } else if (res.ok) {\n",
       "        url = res.url;\n",
       "        div.innerHTML = '<iframe src=\\'' + url + '\\' style=\\'' +\n",
       "                        'width: 100%; height: 700px; border: 0;\\'>' +\n",
       "                        '</iframe><hr />Open in a: <a href=\\'' + url + '\\'' +\n",
       "                        ' target=\\'_blank\\'>new window</a>'\n",
       "    } else {\n",
       "        div.innerHTML = 'Something has gone wrong. Check notebook server for' +\n",
       "                        ' errors.';\n",
       "    }\n",
       "});\n",
       "})(this.parentElement, '/qiime2/redirect?location=/tmp/qiime2-archive-a3rf_qww')\" src=\"data:image/gif;base64,R0lGODlhAQABAIAAAP///wAAACH5BAEAAAAALAAAAAABAAEAAAICRAEAOw==\" /></div>"
      ],
      "text/plain": [
       "<visualization: Visualization uuid: 3c238a17-acf0-473f-9546-83035396fa91>"
      ]
     },
     "execution_count": 6,
     "metadata": {},
     "output_type": "execute_result"
    }
   ],
   "source": [
    "#visualize core metric qzv plots in jupyter notebooks\n",
    "q2.Visualization.load('core-metrics-986/weighted_unifrac_emperor.qzv')"
   ]
  },
  {
   "cell_type": "code",
   "execution_count": 7,
   "metadata": {},
   "outputs": [],
   "source": [
    "#make deicode/rpca beta diversity plot\n",
    "rpcares = rpca(tree_filtered_table)\n",
    "\n",
    "#makes a directory to put the output in\n",
    "os.mkdir('rpca-res-fresh986')\n",
    "for name, q2art in zip(rpcares._fields, rpcares):\n",
    "    out_ = os.path.join('rpca-res-fresh986',name)\n",
    "    q2art.save(out_)"
   ]
  },
  {
   "cell_type": "code",
   "execution_count": 8,
   "metadata": {},
   "outputs": [
    {
     "data": {
      "text/plain": [
       "<artifact: PCoAResults % Properties('biplot') uuid: 0bcaf258-9306-42c8-b0b4-a635020a5393>"
      ]
     },
     "execution_count": 8,
     "metadata": {},
     "output_type": "execute_result"
    }
   ],
   "source": [
    "#import biplot made by rpca\n",
    "bi_plot = q2.Artifact.load('rpca-res-fresh986/biplot.qza')\n",
    "bi_plot"
   ]
  },
  {
   "cell_type": "code",
   "execution_count": 9,
   "metadata": {},
   "outputs": [
    {
     "data": {
      "text/plain": [
       "Results (name = value)\n",
       "-----------------------------------------------------------------------------------------\n",
       "visualization = <visualization: Visualization uuid: d3d6af0c-5ec3-44b5-9722-79273388ec09>"
      ]
     },
     "execution_count": 9,
     "metadata": {},
     "output_type": "execute_result"
    }
   ],
   "source": [
    "empbiplt = biplot(bi_plot,q2mf_filtered)\n",
    "empbiplt"
   ]
  },
  {
   "cell_type": "code",
   "execution_count": 10,
   "metadata": {
    "scrolled": true
   },
   "outputs": [
    {
     "data": {
      "text/html": [
       "<div><img onload=\"(function(div, url){\n",
       "if (typeof require !== 'undefined') {\n",
       "    var baseURL = require.toUrl('').split('/').slice(0, -2).join('/');\n",
       "} else {\n",
       "    var baseURL = JSON.parse(\n",
       "        document.getElementById('jupyter-config-data').innerHTML\n",
       "    ).baseUrl.slice(0, -1);\n",
       "}\n",
       "url = baseURL + url;\n",
       "fetch(url).then(function(res) {\n",
       "    if (res.status === 404) {\n",
       "        div.innerHTML = 'Install QIIME 2 Jupyter extension with:<br />' +\n",
       "                        '<code>jupyter serverextension enable --py qiime2' +\n",
       "                        ' --sys-prefix</code><br />then restart your server.' +\n",
       "                        '<br /><br />(Interactive output not available on ' +\n",
       "                        'static notebook viewer services like nbviewer.)';\n",
       "    } else if (res.status === 409) {\n",
       "        div.innerHTML = 'Visualization no longer in scope. Re-run this cell' +\n",
       "                        ' to see the visualization.';\n",
       "    } else if (res.ok) {\n",
       "        url = res.url;\n",
       "        div.innerHTML = '<iframe src=\\'' + url + '\\' style=\\'' +\n",
       "                        'width: 100%; height: 700px; border: 0;\\'>' +\n",
       "                        '</iframe><hr />Open in a: <a href=\\'' + url + '\\'' +\n",
       "                        ' target=\\'_blank\\'>new window</a>'\n",
       "    } else {\n",
       "        div.innerHTML = 'Something has gone wrong. Check notebook server for' +\n",
       "                        ' errors.';\n",
       "    }\n",
       "});\n",
       "})(this.parentElement, '/qiime2/redirect?location=/tmp/qiime2-archive-qq7o2rak')\" src=\"data:image/gif;base64,R0lGODlhAQABAIAAAP///wAAACH5BAEAAAAALAAAAAABAAEAAAICRAEAOw==\" /></div>"
      ],
      "text/plain": [
       "<visualization: Visualization uuid: d3d6af0c-5ec3-44b5-9722-79273388ec09>"
      ]
     },
     "execution_count": 10,
     "metadata": {},
     "output_type": "execute_result"
    }
   ],
   "source": [
    "empbiplt.visualization"
   ]
  },
  {
   "cell_type": "code",
   "execution_count": 11,
   "metadata": {},
   "outputs": [
    {
     "data": {
      "text/plain": [
       "'rpca-res-fresh986/empbiplt.qzv'"
      ]
     },
     "execution_count": 11,
     "metadata": {},
     "output_type": "execute_result"
    }
   ],
   "source": [
    "#save rpca visualization\n",
    "empbiplt.visualization.save('rpca-res-fresh986/empbiplt.qzv')"
   ]
  },
  {
   "cell_type": "code",
   "execution_count": null,
   "metadata": {},
   "outputs": [],
   "source": [
    "# #beta diversity significance unweighted unifrac 10000\n",
    "# UnUF_dist_matx = q2.Artifact.load('core-metrics-2500/unweighted_unifrac_distance_matrix.qza')\n",
    "# UnUF_species = beta_group_significance(UnUF_dist_matx,q2mf_filtered.get_column('host_subject_id'))\n",
    "# #save beta diversity significance unweighted unifrac 10000 visualization\n",
    "# UnUF_species.visualization.save('core-metrics-2500/UnUF_species.qzv')\n",
    "# #F stat 444.439\n",
    "# #pvalue 0.001"
   ]
  },
  {
   "cell_type": "code",
   "execution_count": null,
   "metadata": {},
   "outputs": [],
   "source": [
    "UnUF_dist_matx = q2.Artifact.load('core-metrics-986/unweighted_unifrac_distance_matrix.qza')\n",
    "UnUF_subject = beta_group_significance(UnUF_dist_matx,q2mf_filtered.get_column('host_subject_id'))\n",
    "UnUF_subject.visualization.save('core-metrics-986/UnUF_subject.qzv')\n"
   ]
  },
  {
   "cell_type": "code",
   "execution_count": null,
   "metadata": {},
   "outputs": [],
   "source": [
    "UnUF_dist_matx = q2.Artifact.load('core-metrics-986/unweighted_unifrac_distance_matrix.qza')\n",
    "UnUF_fresh = beta_group_significance(UnUF_dist_matx,q2mf_filtered.get_column('sample_storage_temp_treatment'))\n",
    "UnUF_fresh.visualization.save('core-metrics-986/UnUF_temp.qzv')\n",
    "#F stat 1.5829\n",
    "#pvalue 0.11"
   ]
  },
  {
   "cell_type": "code",
   "execution_count": null,
   "metadata": {},
   "outputs": [],
   "source": [
    "tax = q2.Artifact.load('taxonomy.qza')\n",
    "tax_bp = taxa.actions.barplot(tree_filtered_table, tax, q2mf_filtered)\n",
    "tax_bp.visualization"
   ]
  },
  {
   "cell_type": "code",
   "execution_count": null,
   "metadata": {},
   "outputs": [],
   "source": [
    "#beta diversity significance weighted unifrac 10000\n",
    "WeUF_dist_matx = q2.Artifact.load('core-metrics-10000/weighted_unifrac_distance_matrix.qza')\n",
    "WeUF_species = beta_group_significance(WeUF_dist_matx,q2mf_filtered.get_column('host_common_name'))\n",
    "#save beta diversity significance unweighted unifrac 10000 visualization\n",
    "WeUF_species.visualization.save('core-metrics-10000/WeUF_species.qzv')\n",
    "#F stat 242.935\n",
    "#pvalue 0.001"
   ]
  },
  {
   "cell_type": "code",
   "execution_count": null,
   "metadata": {},
   "outputs": [],
   "source": [
    "#beta diversity significance weighted unifrac 10000\n",
    "WeUF_dist_matx = q2.Artifact.load('core-metrics-986/weighted_unifrac_distance_matrix.qza')\n",
    "WeUF_subject = beta_group_significance(WeUF_dist_matx,q2mf_filtered.get_column('host_subject_id'))\n",
    "#save beta diversity significance unweighted unifrac 10000 visualization\n",
    "WeUF_subject.visualization.save('core-metrics-986/WeUF_subject.qzv')\n",
    "#F stat 123.591\n",
    "#pvalue 0.001"
   ]
  },
  {
   "cell_type": "code",
   "execution_count": null,
   "metadata": {},
   "outputs": [],
   "source": [
    "#beta diversity significance weighted unifrac 10000\n",
    "WeUF_dist_matx = q2.Artifact.load('core-metrics-986/weighted_unifrac_distance_matrix.qza')\n",
    "WeUF_fresh = beta_group_significance(WeUF_dist_matx,q2mf_filtered.get_column('sample_storage_temp_treatment'))\n",
    "#save beta diversity significance unweighted unifrac 10000 visualization\n",
    "WeUF_fresh.visualization.save('core-metrics-986/WeUF_temp.qzv')\n",
    "#F stat 29.1233\n",
    "#pvalue 0.001"
   ]
  },
  {
   "cell_type": "code",
   "execution_count": null,
   "metadata": {},
   "outputs": [],
   "source": [
    "tax = q2.Artifact.load('taxonomy.qza')\n",
    "tax_bp = taxa.actions.barplot(tree_filtered_table, tax, meta)\n",
    "tax_bp.visualization"
   ]
  },
  {
   "cell_type": "code",
   "execution_count": null,
   "metadata": {},
   "outputs": [],
   "source": [
    "#beta diversity significance rpca\n",
    "rpca_dist_matx = q2.Artifact.load('rpca-res/distance_matrix.qza')\n",
    "rpca_species = beta_group_significance(rpca_dist_matx,q2mf_filtered.get_column('host_common_name'))"
   ]
  },
  {
   "cell_type": "code",
   "execution_count": null,
   "metadata": {},
   "outputs": [],
   "source": [
    "rpca_species.visualization"
   ]
  },
  {
   "cell_type": "code",
   "execution_count": null,
   "metadata": {},
   "outputs": [],
   "source": [
    "#beta diversity significance rpca\n",
    "rpca_dist_matx = q2.Artifact.load('rpca-res-fresh/distance_matrix.qza')\n",
    "rpca_species = beta_group_significance(rpca_dist_matx,q2mf_filtered.get_column('fresh_or_not'))\n",
    "rpca_species.visualization"
   ]
  },
  {
   "cell_type": "code",
   "execution_count": null,
   "metadata": {},
   "outputs": [],
   "source": [
    "#save beta diversity significance rpca\n",
    "rpca_species.visualization.save('rpca-res/rpca_species.qzv')"
   ]
  },
  {
   "cell_type": "code",
   "execution_count": null,
   "metadata": {},
   "outputs": [],
   "source": [
    "#beta diversity significance rpca\n",
    "rpca_dist_matx = q2.Artifact.load('rpca-res/distance_matrix.qza')\n",
    "rpca_species = beta_group_significance(rpca_dist_matx,q2mf_filtered.get_column('host_subject_id'))\n",
    "rpca_species.visualization.save('rpca-res/rpca_subject.qzv')"
   ]
  },
  {
   "cell_type": "code",
   "execution_count": null,
   "metadata": {},
   "outputs": [],
   "source": [
    "#shannon diversity significance and figure (API)\n",
    "shannon_vector = q2.Artifact.load('core-metrics-10000/shannon_vector.qza')\n",
    "shannon_figure = alpha_group_significance(shannon_vector,q2mf_filtered)"
   ]
  },
  {
   "cell_type": "code",
   "execution_count": null,
   "metadata": {},
   "outputs": [],
   "source": [
    "#save shannon alpha diversity significance\n",
    "shannon_figure.visualization.save('core-metrics-10000/shannon_figure.qzv')"
   ]
  },
  {
   "cell_type": "code",
   "execution_count": null,
   "metadata": {},
   "outputs": [],
   "source": [
    "#beta diversity significance jaccard\n",
    "j_dm = q2.Artifact.load('core-metrics-10000/jaccard_distance_matrix.qza')\n",
    "j_stats = beta_group_significance(j_dm,q2mf_filtered.get_column('host_common_name'))\n",
    "j_stats.visualization.save('core-metrics-10000/jacc_stats_host.qzv')"
   ]
  },
  {
   "cell_type": "code",
   "execution_count": null,
   "metadata": {},
   "outputs": [],
   "source": [
    "#beta diversity significance jaccard\n",
    "j_dm = q2.Artifact.load('core-metrics-10000/jaccard_distance_matrix.qza')\n",
    "j_stats = beta_group_significance(j_dm,q2mf_filtered.get_column('fresh_or_not'))\n",
    "j_stats.visualization.save('core-metrics-10000/jacc_stats_fresh.qzv')"
   ]
  },
  {
   "cell_type": "code",
   "execution_count": null,
   "metadata": {},
   "outputs": [],
   "source": [
    "#beta diversity significance bray curtis \n",
    "bc_dm = q2.Artifact.load('core-metrics-10000/bray_curtis_distance_matrix.qza')\n",
    "bc_stats = beta_group_significance(bc_dm,q2mf_filtered.get_column('host_common_name'))\n",
    "bc_stats.visualization.save('core-metrics-10000/bc_stats_host.qzv')"
   ]
  },
  {
   "cell_type": "code",
   "execution_count": null,
   "metadata": {},
   "outputs": [],
   "source": [
    "#beta diversity significance jaccard\n",
    "j_dm = q2.Artifact.load('core-metrics-10000/jaccard_distance_matrix.qza')\n",
    "j_stats = beta_group_significance(j_dm,q2mf_filtered.get_column('host_subject_id'))\n",
    "j_stats.visualization.save('core-metrics-10000/jacc_stats_subject.qzv')"
   ]
  },
  {
   "cell_type": "code",
   "execution_count": null,
   "metadata": {},
   "outputs": [],
   "source": [
    "#beta diversity significance bray curtis \n",
    "bc_dm = q2.Artifact.load('core-metrics-10000/bray_curtis_distance_matrix.qza')\n",
    "bc_stats = beta_group_significance(bc_dm,q2mf_filtered.get_column('host_subject_id'))\n",
    "bc_stats.visualization.save('core-metrics-10000/bc_stats_subject.qzv')"
   ]
  }
 ],
 "metadata": {
  "kernelspec": {
   "display_name": "Python 3",
   "language": "python",
   "name": "python3"
  },
  "language_info": {
   "codemirror_mode": {
    "name": "ipython",
    "version": 3
   },
   "file_extension": ".py",
   "mimetype": "text/x-python",
   "name": "python",
   "nbconvert_exporter": "python",
   "pygments_lexer": "ipython3",
   "version": "3.6.10"
  }
 },
 "nbformat": 4,
 "nbformat_minor": 2
}

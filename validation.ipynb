{
 "cells": [
  {
   "cell_type": "code",
   "execution_count": 1,
   "metadata": {},
   "outputs": [
    {
     "name": "stderr",
     "output_type": "stream",
     "text": [
      "/home/kalen/miniconda3/envs/qiime2-2020.6/lib/python3.6/site-packages/skbio/util/_testing.py:15: FutureWarning: pandas.util.testing is deprecated. Use the functions in the public API at pandas.testing instead.\n",
      "  import pandas.util.testing as pdt\n"
     ]
    }
   ],
   "source": [
    "from qiime2 import Artifact\n",
    "from qiime2.plugins.fragment_insertion.methods import filter_features\n",
    "from qiime2.plugins.emperor.actions import plot, biplot\n",
    "from qiime2.plugins.deicode.actions import rpca\n",
    "from qiime2.plugins.diversity.actions import core_metrics_phylogenetic\n",
    "from qiime2.plugins.fragment_insertion.methods import filter_features\n",
    "from qiime2.plugins.diversity.visualizers import beta_group_significance\n",
    "from qiime2.plugins.diversity.visualizers import alpha_group_significance\n",
    "from qiime2.plugins.metadata.visualizers import tabulate\n",
    "from qiime2.plugins.diversity.methods import alpha\n",
    "from qiime2.plugins import taxa\n",
    "from qiime2 import Artifact\n",
    "import qiime2 as q2\n",
    "import biom\n",
    "import biom\n",
    "import os\n",
    "import pandas as pd\n",
    "import glob\n",
    "from qiime2.plugins import (feature_table,\n",
    "fragment_insertion, \n",
    "feature_classifier, \n",
    "diversity, \n",
    "metadata, \n",
    "emperor, \n",
    "deicode, \n",
    "gneiss, \n",
    "taxa)\n",
    "import pandas as pd\n",
    "\n",
    "from qiime2 import Artifact\n",
    "\n",
    "import seaborn as sns\n",
    "\n",
    "import skbio\n",
    "from skbio.stats.distance import MissingIDError\n",
    "from skbio import DistanceMatrix\n",
    "\n",
    "import numpy as np\n",
    "\n",
    "from matplotlib import pyplot as plt\n",
    "%matplotlib inline\n",
    "\n",
    "import csv\n",
    "\n",
    "import qiime2\n",
    "from matplotlib.legend import Legend\n"
   ]
  },
  {
   "cell_type": "code",
   "execution_count": 2,
   "metadata": {},
   "outputs": [],
   "source": [
    "def check_and_create_dir(dir_name):\n",
    "    CHECK_DIRECTORY = os.path.isdir(dir_name)\n",
    "    if not CHECK_DIRECTORY:\n",
    "        os.makedirs(dir_name)"
   ]
  },
  {
   "cell_type": "markdown",
   "metadata": {},
   "source": [
    "# import data"
   ]
  },
  {
   "cell_type": "markdown",
   "metadata": {},
   "source": [
    "### Remove blanks and katharo samples from biom table and metadata"
   ]
  },
  {
   "cell_type": "code",
   "execution_count": 17,
   "metadata": {},
   "outputs": [],
   "source": [
    "# import metadata\n",
    "mf = q2.Metadata.load('14385_20220208-102803.txt').to_dataframe()\n",
    "\n",
    "# import table\n",
    "bt = biom.load_table('141987_reference-hit.biom')\n",
    "mf = mf.loc[bt.ids(), : ]\n",
    "\n",
    "# directory for outputs (this will include things like figures and emperor plots)\n",
    "inputs_dir_name = 'inputs'\n",
    "check_and_create_dir(inputs_dir_name)\n",
    "output_dir_name = 'plots-and-figures'\n",
    "check_and_create_dir(output_dir_name)"
   ]
  },
  {
   "cell_type": "code",
   "execution_count": 20,
   "metadata": {},
   "outputs": [
    {
     "data": {
      "text/plain": [
       "array(['BLANK5.12D', 'BLANK.AssayAssure.20C.BLANK.1', 'BLANK5.12G',\n",
       "       'BLANK5.12H', 'Katharo5.2speciesmock.1E.5thousand.prev',\n",
       "       'BLANK.AssayAssure.20C.BLANK.2', 'BLANK.EtOH.20C.BLANK.2',\n",
       "       'Katharo5.2speciesmock.1F.5hundred.new', 'BLANK.None.20C.BLANK.2',\n",
       "       'BLANK.None.20C.BLANK.1', 'Katharo5.2speciesmock.1B.5million.prev',\n",
       "       'Katharo5.2speciesmock.1F.5hundred.prev', 'BLANK5.12C',\n",
       "       'Katharo5.2speciesmock.1G.50.new',\n",
       "       'Katharo5.2speciesmock.1H.5.prev',\n",
       "       'Katharo5.2speciesmock.1G.50.prev', 'Katharo5.Zymo.2F.5hundred',\n",
       "       'BLANK.EtOH.20C.BLANK.1', 'Katharo5.Zymo.2G.50',\n",
       "       'Katharo5.Zymo.2H.5', 'Katharo5.2speciesmock.1D.50thousand.new',\n",
       "       'Katharo5.2speciesmock.1D.50thousand.prev', 'K',\n",
       "       'Katharo5.2speciesmock.1E.5thousand.new', 'BLANK5.12E',\n",
       "       'Katharo5.2speciesmock.1C.500thousand.new',\n",
       "       'Katharo5.2speciesmock.1C.500thousand.prev',\n",
       "       'Katharo5.Zymo.2C.500thousand', 'BLANK5.12F',\n",
       "       'Katharo5.2speciesmock.1A.50million.new', 'L',\n",
       "       'Katharo5.Zymo.2D.50thousand', 'Katharo5.Zymo.2E.5thousand', 'N',\n",
       "       'M', 'Katharo5.2speciesmock.1A.50million.prev',\n",
       "       'Katharo5.Zymo.2A.50million', 'O', 'Katharo5.Zymo.2B.5million',\n",
       "       'Katharo5.2speciesmock.1B.5million.new', 'Q', 'P', 'S', 'R', 'T'],\n",
       "      dtype=object)"
      ]
     },
     "execution_count": 20,
     "metadata": {},
     "output_type": "execute_result"
    }
   ],
   "source": [
    "mf.host_subject_id.unique()"
   ]
  },
  {
   "cell_type": "code",
   "execution_count": 4,
   "metadata": {},
   "outputs": [],
   "source": [
    "# criteria to keep smaple  \n",
    "keep = lambda sample: 'BLANK' not in sample and 'Katharo' not in sample\n",
    "\n",
    "# identify the metadata data to keep (need to remove blank and kartho)\n",
    "keep = [ind for ind in mf.index if keep(ind)]\n",
    "\n",
    "\n",
    "#filter metadata\n",
    "mf_filtered = mf.loc[keep, : ]\n",
    "\n",
    "#filter biom table\n",
    "bt_filter = bt.filter(mf_filtered.index, axis='sample')\n",
    "\n",
    "#some features may have been removed that were unique to the samples removed\n",
    "#now there may be a lot of 0's in our table, remove them and match tables\n",
    "keep_feat = bt_filter.ids('observation')[bt_filter.sum(axis='observation') > 0]\n",
    "bt_filter = bt_filter.filter(keep_feat, axis='observation')"
   ]
  },
  {
   "cell_type": "code",
   "execution_count": 22,
   "metadata": {},
   "outputs": [
    {
     "data": {
      "text/plain": [
       "array(['K', 'L', 'N', 'M', 'O', 'Q', 'P', 'S', 'R', 'T'], dtype=object)"
      ]
     },
     "execution_count": 22,
     "metadata": {},
     "output_type": "execute_result"
    }
   ],
   "source": [
    "mf_filtered.host_subject_id.unique()"
   ]
  },
  {
   "cell_type": "markdown",
   "metadata": {},
   "source": [
    "### import table/tree/metadata into qiime2"
   ]
  },
  {
   "cell_type": "code",
   "execution_count": 5,
   "metadata": {},
   "outputs": [
    {
     "name": "stdout",
     "output_type": "stream",
     "text": [
      "/home/kalen/miniconda3/envs/qiime2-2020.6/lib/python3.6/site-packages/skbio/util/_testing.py:15: FutureWarning: pandas.util.testing is deprecated. Use the functions in the public API at pandas.testing instead.\n",
      "  import pandas.util.testing as pdt\n",
      "\u001b[32mImported 141987_insertion_tree.relabelled.tre as NewickDirectoryFormat to rooted-tree.qza\u001b[0m\n"
     ]
    },
    {
     "data": {
      "text/plain": [
       "'filtered-table.qza'"
      ]
     },
     "execution_count": 5,
     "metadata": {},
     "output_type": "execute_result"
    }
   ],
   "source": [
    "#import tree\n",
    "!qiime tools import \\\n",
    "  --input-path 141987_insertion_tree.relabelled.tre \\\n",
    "  --output-path rooted-tree.qza \\\n",
    "  --type 'Phylogeny[Rooted]'\n",
    "\n",
    "#turn tables to q2 artifacts\n",
    "q2mf_filtered = q2.Metadata(mf_filtered)\n",
    "q2mf_filtered.save('filtered-metadata.qza')\n",
    "q2bt = q2.Artifact.import_data('FeatureTable[Frequency]', bt_filter)\n",
    "q2bt.save('filtered-table.qza')"
   ]
  },
  {
   "cell_type": "markdown",
   "metadata": {},
   "source": [
    "### filter table to match tree"
   ]
  },
  {
   "cell_type": "code",
   "execution_count": 6,
   "metadata": {},
   "outputs": [],
   "source": [
    "# #import filtered table and tree\n",
    "# rooted_tree = q2.Artifact.load('rooted-tree.qza')\n",
    "\n",
    "# #filter table to match tree\n",
    "# tree_filtered_table, removed_table = filter_features(q2bt,rooted_tree)\n",
    "# tree_filtered_table.save('tree-filtered-table.qza')"
   ]
  },
  {
   "cell_type": "markdown",
   "metadata": {},
   "source": [
    "### TEMPORARY!!!!!"
   ]
  },
  {
   "cell_type": "code",
   "execution_count": 6,
   "metadata": {},
   "outputs": [],
   "source": [
    "rooted_tree = q2.Artifact.load('rooted-tree.qza')\n",
    "\n",
    "tree_filtered_table = q2.Artifact.load('tree-filtered-table.qza')"
   ]
  },
  {
   "cell_type": "code",
   "execution_count": 12,
   "metadata": {},
   "outputs": [
    {
     "data": {
      "text/html": [
       "<div><img onload=\"(function(div, url){\n",
       "if (typeof require !== 'undefined') {\n",
       "    var baseURL = require.toUrl('').split('/').slice(0, -2).join('/');\n",
       "} else {\n",
       "    var baseURL = JSON.parse(\n",
       "        document.getElementById('jupyter-config-data').innerHTML\n",
       "    ).baseUrl.slice(0, -1);\n",
       "}\n",
       "url = baseURL + url;\n",
       "fetch(url).then(function(res) {\n",
       "    if (res.status === 404) {\n",
       "        div.innerHTML = 'Install QIIME 2 Jupyter extension with:<br />' +\n",
       "                        '<code>jupyter serverextension enable --py qiime2' +\n",
       "                        ' --sys-prefix</code><br />then restart your server.' +\n",
       "                        '<br /><br />(Interactive output not available on ' +\n",
       "                        'static notebook viewer services like nbviewer.)';\n",
       "    } else if (res.status === 409) {\n",
       "        div.innerHTML = 'Visualization no longer in scope. Re-run this cell' +\n",
       "                        ' to see the visualization.';\n",
       "    } else if (res.ok) {\n",
       "        url = res.url;\n",
       "        div.innerHTML = '<iframe src=\\'' + url + '\\' style=\\'' +\n",
       "                        'width: 100%; height: 700px; border: 0;\\'>' +\n",
       "                        '</iframe><hr />Open in a: <a href=\\'' + url + '\\'' +\n",
       "                        ' target=\\'_blank\\'>new window</a>'\n",
       "    } else {\n",
       "        div.innerHTML = 'Something has gone wrong. Check notebook server for' +\n",
       "                        ' errors.';\n",
       "    }\n",
       "});\n",
       "})(this.parentElement, '/qiime2/redirect?location=/tmp/qiime2-archive-onv7ajfj')\" src=\"data:image/gif;base64,R0lGODlhAQABAIAAAP///wAAACH5BAEAAAAALAAAAAABAAEAAAICRAEAOw==\" /></div>"
      ],
      "text/plain": [
       "<visualization: Visualization uuid: 846262f3-0e13-4e20-b4ab-6c0b1bdcc612>"
      ]
     },
     "execution_count": 12,
     "metadata": {},
     "output_type": "execute_result"
    },
    {
     "data": {
      "image/png": "[encoded data removed]",
      "text/plain": [
       "<Figure size 432x288 with 1 Axes>"
      ]
     },
     "metadata": {
      "needs_background": "light"
     },
     "output_type": "display_data"
    }
   ],
   "source": [
    "tbl = Artifact.load('tree-filtered-table.qza')\n",
    "meta = qiime2.Metadata.load('filtered-metadata.qza')\n",
    "# Singletons out\n",
    "tbl_freq2 = tbl\n",
    "feature_table.visualizers.summarize(tbl_freq2, meta).visualization"
   ]
  },
  {
   "cell_type": "markdown",
   "metadata": {},
   "source": [
    "# Diversity"
   ]
  },
  {
   "cell_type": "code",
   "execution_count": 8,
   "metadata": {},
   "outputs": [],
   "source": [
    "VAL_BASE_COL = 'validation_base_col'\n",
    "VAL_BASE_VAL = 'base'\n",
    "class MyDM(skbio.DistanceMatrix):\n",
    "    def _stable_order(self, ids):\n",
    "\n",
    "        id_order = sorted(self._id_index[i] for i in ids)\n",
    "        return np.array(id_order, dtype=int)\n",
    "    \n",
    "    def between(self, from_, to_, allow_overlap=False):\n",
    "\n",
    "        from_ = set(from_)\n",
    "        to_ = set(to_)\n",
    "\n",
    "        all_ids = from_ | to_\n",
    "        not_present = all_ids - set(self._id_index)\n",
    "        if not_present:\n",
    "            raise MissingIDError(\"At least one ID (e.g., '%s') was not \"\n",
    "                                 \"found.\" % not_present.pop())\n",
    "\n",
    "        overlapping = from_ & to_\n",
    "        if not allow_overlap and overlapping:\n",
    "            raise KeyError(\"At least one ID overlaps in from_ and to_ \"\n",
    "                           \"(e.g., '%s'). This constraint can removed with \"\n",
    "                           \"allow_overlap=True.\" % overlapping.pop())\n",
    "\n",
    "        return self._subset_to_dataframe(from_, to_)\n",
    "    \n",
    "    def _subset_to_dataframe(self, i_ids, j_ids):\n",
    "\n",
    "        i_indices = self._stable_order(i_ids)\n",
    "        j_indices = self._stable_order(j_ids)\n",
    "\n",
    "        j_length = len(j_indices)\n",
    "        j_labels = tuple([self.ids[j] for j in j_indices])\n",
    "\n",
    "        i = []\n",
    "        j = []\n",
    "\n",
    "        values = [np.array([])]\n",
    "        for i_idx in i_indices:\n",
    "            i.extend([self.ids[i_idx]] * j_length)\n",
    "            j.extend(j_labels)\n",
    "\n",
    "            subset = self._data[i_idx, j_indices]\n",
    "            values.append(subset)\n",
    "\n",
    "        i = pd.Series(i, name='i')\n",
    "        j = pd.Series(j, name='j')\n",
    "        values = pd.Series(np.hstack(values), name='value')\n",
    "\n",
    "        return pd.concat([i, j, values], axis=1)\n",
    "    \n",
    "def gather_between_distances(a_dm, a_md, col, id_col):\n",
    "    pleasant_dm = MyDM(a_dm)\n",
    "\n",
    "    tidy_data = []\n",
    "    \n",
    "    baseline_ids = {}\n",
    "    for hid, grp in a_md.groupby(id_col):\n",
    "        base_df = grp[grp[VAL_BASE_COL] == VAL_BASE_VAL]\n",
    "        baseline_ids[hid] = base_df.index\n",
    "\n",
    "    for (pres, hid), grp in a_md.groupby([col] + ['host_subject_id']):  \n",
    "        if hid in baseline_ids:\n",
    "            base_ids = baseline_ids[hid]\n",
    "            distances = pleasant_dm.between(base_ids, grp.index, allow_overlap=True)\n",
    "\n",
    "            distances['sample_preservation_method'] = pres\n",
    "            distances['host_subject_id'] = hid\n",
    "            distances['groupby'] = 'Distance to no preservative'\n",
    "            tidy_data.append(distances)\n",
    "\n",
    "    tidy_data = pd.concat(tidy_data)\n",
    "    \n",
    "    return tidy_data[tidy_data['i'] != tidy_data['j']]\n",
    "\n",
    "def calc_inter_group(group_condition_i, group_condition_j, dist_mat, df, id_col):\n",
    "    subjects = df[id_col].unique()\n",
    "    already_proc = []\n",
    "    pleasant_dm = MyDM(dist_mat)\n",
    "    pairs = []\n",
    "    for s in subjects:\n",
    "        pairs.append(\n",
    "             pleasant_dm.between(\n",
    "#                 df.loc[df['host_subject_id'] == s].index,\n",
    "#                 df.loc[~(df['host_subject_id'] == s) & ~(df['host_subject_id'].isin(already_proc))].index))\n",
    "                df.loc[group_condition_i].index,\n",
    "                df.loc[gropu_condition_j].index))\n",
    "        already_proc.append(s)\n",
    "    pd.concat(pairs).loc[:, 'value'].median()\n",
    "\n",
    "def fancy_plotting(df, x, xlabel, y, ylabel, hue, legend_label, col, order=None, legend_text_map=None,\n",
    "                   inter_distances=None):\n",
    "    num_col = min(len(df[col].unique()), 3)\n",
    "    g = sns.catplot(data=df, x=x, y=y, hue=hue, col=col, kind='box', col_wrap=num_col, order=order,)\n",
    "#                     palette=sns.color_palette(\"RdBu_r\", 7))\n",
    "    \n",
    "    g.set_axis_labels(xlabel, ylabel)\n",
    "    g.set_xticklabels(order)\n",
    "    g.set_titles(\"{col_name}\")\n",
    "    g._legend.set_title(legend_label)\n",
    "    \n",
    "    \n",
    "    for t in g._legend.texts:\n",
    "        t.set_text(legend_text_map[t._text])\n",
    "    \n",
    "    \n",
    "    additional_legends = []\n",
    "    additional_labels = []\n",
    "    for ax in g.axes.flat:\n",
    "        ax.set_title(ax.get_title(), fontsize='xx-large')\n",
    "        ax.set_ylabel(ax.get_ylabel(), fontsize='x-large')\n",
    "        ax.set_xlabel(ax.get_xlabel(), fontsize='x-large')\n",
    "        ax.set_xticklabels(ax.get_xticklabels(), fontsize='x-large')\n",
    "        for label, ls, value in inter_distances:\n",
    "            additional_legends.append(\n",
    "                ax.axhline(value, ls=ls, color='0.1', linewidth=2, label=label))\n",
    "            additional_labels.append(label)\n",
    "        # Create the second legend and add the artist manually.\n",
    "        new_leg = Legend(g.fig, additional_legends, additional_labels,title='Reference distance')\n",
    "    g.fig.add_artist(new_leg);\n",
    "    return g"
   ]
  },
  {
   "cell_type": "code",
   "execution_count": 9,
   "metadata": {},
   "outputs": [],
   "source": [
    "# permanova groups and other parameters\n",
    "groups = ['host_subject_id', 'sample_preservation_method']\n",
    "use_pairwise = True\n",
    "\n",
    "def create_perma_groups(q2mat, q2meta, directory, groups, metric_used='unweighted_unifrac', use_pairwise=True):\n",
    "    for group in groups:\n",
    "        group_dir = os.path.join(directory, group)\n",
    "        check_and_create_dir(group_dir)\n",
    "        out_ = os.path.join(group_dir, metric_used)\n",
    "        group_plot = beta_group_significance(q2mat, q2meta.get_column(group), pairwise=use_pairwise)\n",
    "        group_plot.visualization.save(out_)\n",
    "        \n",
    "def create_box_plot_data(base_condition, groups, col, id_col, q2meta, dist_mat, directory, xlabel, y, legend_label,\n",
    "                         groupbycol, metric_used='rpca', fname=None):\n",
    "    # calculate inter-human\n",
    "    distances = dist_mat.data\n",
    "    total_subjects = dist_mat.shape[0]\n",
    "    values = []\n",
    "    for i in range(total_subjects):\n",
    "        for j in range(i + 1, total_subjects):\n",
    "            values.append(distances[i, j])\n",
    "    inter_distances = [('inter-human', '-', np.median(values))]\n",
    "    \n",
    "    # calculate inter-replicates\n",
    "    \n",
    "    values = []\n",
    "    hids = dist_mat.ids\n",
    "    for i in range(total_subjects):\n",
    "        for j in range(i + 1, total_subjects):\n",
    "            s_i, s_j = hids[i], hids[j]\n",
    "            if s_i[:-2] == s_j[:-2]:\n",
    "                values.append(distances[i, j])\n",
    "    inter_distances.append(('inter-replicate', '--', np.median(values)))\n",
    "    \n",
    "    md = q2meta.to_dataframe()\n",
    "    md = md.loc[dist_mat.ids, :]\n",
    "    md.loc[base_condition, VAL_BASE_COL] = VAL_BASE_VAL\n",
    "    between_distances = gather_between_distances(dist_mat, md, col, id_col)\n",
    "    out_ = os.path.join(directory, metric_used) if fname is None else os.path.join(directory,fname)\n",
    "    metric_used += '_distance'\n",
    "    fancy_plotting(between_distances, \n",
    "                   x=id_col, xlabel=xlabel, \n",
    "                   y=y, ylabel=' '.join([w for w in metric_used.capitalize().split('_')]),\n",
    "                   legend_text_map={w: ' '.join(w.split('_')) for w in between_distances[base_col].unique()},\n",
    "                   legend_label=legend_label,\n",
    "                   hue=base_col, col=groupbycol, inter_distances=inter_distances).savefig(out_)"
   ]
  },
  {
   "cell_type": "markdown",
   "metadata": {},
   "source": [
    "#### This will create emperor plots, PERMANOVA group significance plots, and taxonomy plots. Results will be stored in directory defined by `output_dir_name`"
   ]
  },
  {
   "cell_type": "code",
   "execution_count": 13,
   "metadata": {},
   "outputs": [
    {
     "name": "stderr",
     "output_type": "stream",
     "text": [
      "/home/kalen/miniconda3/envs/qiime2-2020.6/lib/python3.6/site-packages/sklearn/metrics/pairwise.py:1776: DataConversionWarning: Data was converted to boolean for metric jaccard\n",
      "  warnings.warn(msg, DataConversionWarning)\n",
      "/home/kalen/miniconda3/envs/qiime2-2020.6/lib/python3.6/site-packages/skbio/stats/ordination/_principal_coordinate_analysis.py:152: RuntimeWarning: The result contains negative eigenvalues. Please compare their magnitude with the magnitude of some of the largest positive eigenvalues. If the negative ones are smaller, it's probably safe to ignore them, but if they are large in magnitude, the results won't be useful. See the Notes section for more details. The smallest eigenvalue is -0.07112736748682533 and the largest is 5.948348443789557.\n",
      "  RuntimeWarning\n",
      "/home/kalen/miniconda3/envs/qiime2-2020.6/lib/python3.6/site-packages/skbio/stats/ordination/_principal_coordinate_analysis.py:152: RuntimeWarning: The result contains negative eigenvalues. Please compare their magnitude with the magnitude of some of the largest positive eigenvalues. If the negative ones are smaller, it's probably safe to ignore them, but if they are large in magnitude, the results won't be useful. See the Notes section for more details. The smallest eigenvalue is -0.019937968102490343 and the largest is 2.2369302704010403.\n",
      "  RuntimeWarning\n",
      "/home/kalen/miniconda3/envs/qiime2-2020.6/lib/python3.6/site-packages/skbio/stats/ordination/_principal_coordinate_analysis.py:152: RuntimeWarning: The result contains negative eigenvalues. Please compare their magnitude with the magnitude of some of the largest positive eigenvalues. If the negative ones are smaller, it's probably safe to ignore them, but if they are large in magnitude, the results won't be useful. See the Notes section for more details. The smallest eigenvalue is -0.006804585366340911 and the largest is 0.3896059974961698.\n",
      "  RuntimeWarning\n",
      "/home/kalen/miniconda3/envs/qiime2-2020.6/lib/python3.6/site-packages/ipykernel_launcher.py:47: DeprecationWarning: The default dtype for empty Series will be 'object' instead of 'float64' in a future version. Specify a dtype explicitly to silence this warning.\n",
      "/home/kalen/miniconda3/envs/qiime2-2020.6/lib/python3.6/site-packages/ipykernel_launcher.py:48: DeprecationWarning: The default dtype for empty Series will be 'object' instead of 'float64' in a future version. Specify a dtype explicitly to silence this warning.\n",
      "/home/kalen/miniconda3/envs/qiime2-2020.6/lib/python3.6/site-packages/ipykernel_launcher.py:47: DeprecationWarning: The default dtype for empty Series will be 'object' instead of 'float64' in a future version. Specify a dtype explicitly to silence this warning.\n",
      "/home/kalen/miniconda3/envs/qiime2-2020.6/lib/python3.6/site-packages/ipykernel_launcher.py:48: DeprecationWarning: The default dtype for empty Series will be 'object' instead of 'float64' in a future version. Specify a dtype explicitly to silence this warning.\n",
      "/home/kalen/miniconda3/envs/qiime2-2020.6/lib/python3.6/site-packages/ipykernel_launcher.py:47: DeprecationWarning: The default dtype for empty Series will be 'object' instead of 'float64' in a future version. Specify a dtype explicitly to silence this warning.\n",
      "/home/kalen/miniconda3/envs/qiime2-2020.6/lib/python3.6/site-packages/ipykernel_launcher.py:48: DeprecationWarning: The default dtype for empty Series will be 'object' instead of 'float64' in a future version. Specify a dtype explicitly to silence this warning.\n",
      "/home/kalen/miniconda3/envs/qiime2-2020.6/lib/python3.6/site-packages/ipykernel_launcher.py:47: DeprecationWarning: The default dtype for empty Series will be 'object' instead of 'float64' in a future version. Specify a dtype explicitly to silence this warning.\n",
      "/home/kalen/miniconda3/envs/qiime2-2020.6/lib/python3.6/site-packages/ipykernel_launcher.py:48: DeprecationWarning: The default dtype for empty Series will be 'object' instead of 'float64' in a future version. Specify a dtype explicitly to silence this warning.\n"
     ]
    },
    {
     "data": {
      "text/plain": [
       "<Figure size 432x288 with 0 Axes>"
      ]
     },
     "metadata": {},
     "output_type": "display_data"
    },
    {
     "data": {
      "text/plain": [
       "<Figure size 515.5x360 with 0 Axes>"
      ]
     },
     "metadata": {},
     "output_type": "display_data"
    },
    {
     "data": {
      "text/plain": [
       "<Figure size 515.5x360 with 0 Axes>"
      ]
     },
     "metadata": {},
     "output_type": "display_data"
    },
    {
     "data": {
      "text/plain": [
       "<Figure size 515.5x360 with 0 Axes>"
      ]
     },
     "metadata": {},
     "output_type": "display_data"
    },
    {
     "data": {
      "text/plain": [
       "<Figure size 515.5x360 with 0 Axes>"
      ]
     },
     "metadata": {},
     "output_type": "display_data"
    },
    {
     "data": {
      "image/png": "[encoded data removed]",
      "text/plain": [
       "<Figure size 515.5x360 with 1 Axes>"
      ]
     },
     "metadata": {},
     "output_type": "display_data"
    }
   ],
   "source": [
    "base_val = 'no_preservative'\n",
    "base_col = 'sample_preservation_method'\n",
    "id_col = 'host_subject_id'\n",
    "base_condition = lambda df: (df[base_col] == base_val)\n",
    "\n",
    "#core diversity metrics @ different sequencing depths\n",
    "for rf_depth in [38000]:\n",
    "    core_results = core_metrics_phylogenetic(tree_filtered_table,\n",
    "                                             rooted_tree,\n",
    "                                             rf_depth,\n",
    "                                             q2mf_filtered)\n",
    "    \n",
    "    # create metrics, emperor, PERMANOVA, and taxonomy output directories\n",
    "    core_metric_dir = inputs_dir_name + '/core-metrics-%i'%(rf_depth)\n",
    "    emperor_dir = output_dir_name + '/emperor-plots-%i'%(rf_depth)\n",
    "    check_and_create_dir(core_metric_dir)\n",
    "    check_and_create_dir(emperor_dir)\n",
    "    perma_dir = output_dir_name + '/permanova-group-plots-%i'%(rf_depth)\n",
    "    check_and_create_dir(perma_dir)\n",
    "    box_dir = output_dir_name + '/box-plots-%i'%(rf_depth)\n",
    "    check_and_create_dir(box_dir)\n",
    "    \n",
    "    for name, q2art in zip(core_results._fields, core_results):\n",
    "#         move emperor plots to output directory\n",
    "        alpha_dir = emperor_dir if 'emperor' in name else core_metric_dir\n",
    "        out_ = os.path.join(alpha_dir,name)\n",
    "        q2art.save(out_)\n",
    "        \n",
    "        # create permanova group plot and box plots\n",
    "        if 'distance' in name:\n",
    "#             # permanova plot\n",
    "            distance_metric = name.split('_distance')[0]\n",
    "            create_perma_groups(q2art, q2mf_filtered, perma_dir, groups, metric_used=distance_metric)\n",
    "            \n",
    "            # box plots\n",
    "            dist_mat = q2art.view(DistanceMatrix)\n",
    "            test_mat = q2art\n",
    "            create_box_plot_data(base_condition, groups, base_col, id_col, q2mf_filtered, dist_mat, box_dir,\n",
    "                                 'Subject', 'value', 'Preservation method', 'groupby',  metric_used=distance_metric)\n",
    "\n",
    "#make deicode/rpca beta diversity plot\n",
    "rpcares = rpca(tree_filtered_table)\n",
    "\n",
    "#makes a directory to put the output in\n",
    "rpca_dir_name = inputs_dir_name + '/rpca'\n",
    "check_and_create_dir(rpca_dir_name)\n",
    "for name, q2art in zip(rpcares._fields, rpcares):\n",
    "    out_ = os.path.join(rpca_dir_name,name)\n",
    "    q2art.save(out_)\n",
    "    \n",
    "#import biplot made by rpca\n",
    "bi_plot = q2.Artifact.load(rpca_dir_name + '/biplot.qza')\n",
    "empbiplt = biplot(bi_plot,q2mf_filtered)\n",
    "\n",
    "#save rpca visualization\n",
    "output_rpca_dir = output_dir_name + '/rpca-plots'\n",
    "check_and_create_dir(output_rpca_dir)\n",
    "empbiplt.visualization.save(output_rpca_dir + '/empbiplt.qzv')\n",
    "\n",
    "\n",
    "#beta diversity significance rpca\n",
    "rpca_perma_dir = output_rpca_dir + '/permanova-group-plots'\n",
    "check_and_create_dir(rpca_perma_dir)\n",
    "rpca_dist_matx = q2.Artifact.load(rpca_dir_name + '/distance_matrix.qza')\n",
    "create_perma_groups(rpca_dist_matx, q2mf_filtered, rpca_perma_dir, groups, metric_used='rpca')\n",
    "\n",
    "# # box plots\n",
    "dist_mat = rpca_dist_matx.view(DistanceMatrix)\n",
    "create_box_plot_data(base_condition, groups, base_col, id_col, q2mf_filtered, dist_mat, output_rpca_dir,\n",
    "                     'Subject', 'value', 'Preservation method', 'groupby', fname='rpca-box-plot')"
   ]
  },
  {
   "cell_type": "markdown",
   "metadata": {},
   "source": [
    "# Taxonomy"
   ]
  },
  {
   "cell_type": "code",
   "execution_count": 23,
   "metadata": {},
   "outputs": [
    {
     "data": {
      "text/plain": [
       "'inputs/rpca/distance_matrix.qzv'"
      ]
     },
     "execution_count": 23,
     "metadata": {},
     "output_type": "execute_result"
    }
   ],
   "source": [
    "tax = q2.Artifact.load('taxonomy.qza')\n",
    "tax_bp = taxa.actions.barplot(tree_filtered_table, tax, q2mf_filtered)\n",
    "tax_dir_name = output_dir_name + '/taxonomy_plot'\n",
    "tax_bp.visualization.save(out_)"
   ]
  },
  {
   "cell_type": "code",
   "execution_count": null,
   "metadata": {},
   "outputs": [],
   "source": [
    "distances = dist_mat.data"
   ]
  },
  {
   "cell_type": "code",
   "execution_count": null,
   "metadata": {},
   "outputs": [],
   "source": [
    "dist_mat.data"
   ]
  },
  {
   "cell_type": "code",
   "execution_count": null,
   "metadata": {},
   "outputs": [],
   "source": [
    "dist_mat.ids[0][:-2]"
   ]
  },
  {
   "cell_type": "code",
   "execution_count": null,
   "metadata": {},
   "outputs": [],
   "source": []
  }
 ],
 "metadata": {
  "kernelspec": {
   "display_name": "Python 3",
   "language": "python",
   "name": "python3"
  },
  "language_info": {
   "codemirror_mode": {
    "name": "ipython",
    "version": 3
   },
   "file_extension": ".py",
   "mimetype": "text/x-python",
   "name": "python",
   "nbconvert_exporter": "python",
   "pygments_lexer": "ipython3",
   "version": "3.6.10"
  }
 },
 "nbformat": 4,
 "nbformat_minor": 2
}

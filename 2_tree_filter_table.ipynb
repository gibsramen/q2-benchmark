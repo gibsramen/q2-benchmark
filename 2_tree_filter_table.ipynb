{
 "cells": [
  {
   "cell_type": "code",
   "execution_count": 1,
   "metadata": {},
   "outputs": [],
   "source": [
    "import qiime2 as q2\n",
    "from qiime2.plugins.fragment_insertion.methods import filter_features"
   ]
  },
  {
   "cell_type": "code",
   "execution_count": 2,
   "metadata": {},
   "outputs": [
    {
     "name": "stdout",
     "output_type": "stream",
     "text": [
      "\u001b[32mImported tree.nwk as NewickDirectoryFormat to rooted-tree.qza\u001b[0m\r\n"
     ]
    }
   ],
   "source": [
    "#import tree\n",
    "!qiime tools import \\\n",
    "  --input-path tree.nwk \\\n",
    "  --output-path rooted-tree.qza \\\n",
    "  --type 'Phylogeny[Rooted]'"
   ]
  },
  {
   "cell_type": "code",
   "execution_count": 3,
   "metadata": {},
   "outputs": [],
   "source": [
    "#import filtered table and tree\n",
    "q2bt = q2.Artifact.load('filtered-table.qza')\n",
    "rooted_tree = q2.Artifact.load('rooted-tree.qza')"
   ]
  },
  {
   "cell_type": "code",
   "execution_count": 4,
   "metadata": {},
   "outputs": [
    {
     "data": {
      "text/plain": [
       "'tree-filtered-table.qza'"
      ]
     },
     "execution_count": 4,
     "metadata": {},
     "output_type": "execute_result"
    }
   ],
   "source": [
    "#filter table to match tree\n",
    "tree_filtered_table, removed_table = filter_features(q2bt,rooted_tree)\n",
    "tree_filtered_table.save('tree-filtered-table.qza')"
   ]
  },
  {
   "cell_type": "code",
   "execution_count": null,
   "metadata": {},
   "outputs": [],
   "source": []
  }
 ],
 "metadata": {
  "kernelspec": {
   "display_name": "Python 3",
   "language": "python",
   "name": "python3"
  },
  "language_info": {
   "codemirror_mode": {
    "name": "ipython",
    "version": 3
   },
   "file_extension": ".py",
   "mimetype": "text/x-python",
   "name": "python",
   "nbconvert_exporter": "python",
   "pygments_lexer": "ipython3",
   "version": "3.6.10"
  }
 },
 "nbformat": 4,
 "nbformat_minor": 2
}

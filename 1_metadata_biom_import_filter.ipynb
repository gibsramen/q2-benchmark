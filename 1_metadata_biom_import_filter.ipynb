{
 "cells": [
  {
   "cell_type": "code",
   "execution_count": 1,
   "metadata": {},
   "outputs": [],
   "source": [
    "from qiime2 import Artifact\n",
    "import qiime2 as q2\n",
    "import biom"
   ]
  },
  {
   "cell_type": "code",
   "execution_count": 2,
   "metadata": {},
   "outputs": [],
   "source": [
    "#import metadata\n",
    "mf = q2.Metadata.load('14383_20220203-201511.txt').to_dataframe()"
   ]
  },
  {
   "cell_type": "code",
   "execution_count": 3,
   "metadata": {},
   "outputs": [],
   "source": [
    "# #create a new storage temp condition for samples that were put in -20C after 1 week\n",
    "# mf['sample_storage_temp_treatment_week_added'] = [j + ' after one week' \n",
    "#                                                   if '20C.A' in i else j \n",
    "#                                                   for i, j in zip(mf.index,mf.sample_storage_temp_treatment)]"
   ]
  },
  {
   "cell_type": "code",
   "execution_count": 4,
   "metadata": {},
   "outputs": [],
   "source": [
    "# mf['fresh_or_not'] = ['yes' if i == 'fresh' else 'no' \n",
    "#                       for i in mf.duration_of_storage]"
   ]
  },
  {
   "cell_type": "code",
   "execution_count": 5,
   "metadata": {},
   "outputs": [
    {
     "data": {
      "text/plain": [
       "'filtered-table.qza'"
      ]
     },
     "execution_count": 5,
     "metadata": {},
     "output_type": "execute_result"
    }
   ],
   "source": [
    "#import table into qiime2 and filter out blanks, controls, and mistakes\n",
    "\n",
    "#import table \n",
    "bt = biom.load_table('feature-table.biom')\n",
    "\n",
    "bt_id_map =  {i: i[7:] for i in bt.ids()}\n",
    "bt.update_ids(bt_id_map)\n",
    "\n",
    "#identify the metadata data to keep \n",
    "keep = [ind for ind in mf.index if 'urine' in ind]\n",
    "\n",
    "#indentify the biom table data to keep (match to metadata)\n",
    "keep2 = list(set(keep) & set(bt.ids()))\n",
    "\n",
    "#filter metadata\n",
    "mf_filtered = mf.loc[keep2, : ]\n",
    "\n",
    "#filter biom table\n",
    "bt_filter = bt.filter(mf_filtered.index, axis='sample')\n",
    "\n",
    "#some features may have been removed that were unique to the samples removed\n",
    "#now there may be a lot of 0's in our table, remove them and match tables\n",
    "keep_feat = bt_filter.ids('observation')[bt_filter.sum(axis='observation') > 0]\n",
    "bt_filter = bt_filter.filter(keep_feat, axis='observation')\n",
    "\n",
    "#turn tables to q2 artifacts\n",
    "q2mf_filtered = q2.Metadata(mf_filtered)\n",
    "q2mf_filtered.save('filtered-metadata.qza')\n",
    "q2bt = q2.Artifact.import_data('FeatureTable[Frequency]', bt_filter)\n",
    "q2bt.save('filtered-table.qza')"
   ]
  },
  {
   "cell_type": "code",
   "execution_count": 6,
   "metadata": {},
   "outputs": [
    {
     "data": {
      "text/plain": [
       "1989 x 180 <class 'biom.table.Table'> with 8227 nonzero entries (2% dense)"
      ]
     },
     "execution_count": 6,
     "metadata": {},
     "output_type": "execute_result"
    }
   ],
   "source": [
    "bt_filter"
   ]
  },
  {
   "cell_type": "code",
   "execution_count": null,
   "metadata": {},
   "outputs": [],
   "source": []
  }
 ],
 "metadata": {
  "kernelspec": {
   "display_name": "Python 3",
   "language": "python",
   "name": "python3"
  },
  "language_info": {
   "codemirror_mode": {
    "name": "ipython",
    "version": 3
   },
   "file_extension": ".py",
   "mimetype": "text/x-python",
   "name": "python",
   "nbconvert_exporter": "python",
   "pygments_lexer": "ipython3",
   "version": "3.6.10"
  }
 },
 "nbformat": 4,
 "nbformat_minor": 2
}
